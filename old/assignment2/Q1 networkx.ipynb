{
 "cells": [
  {
   "cell_type": "markdown",
   "id": "e7959a30",
   "metadata": {},
   "source": [
    "<div align=\"center\">\n",
    "\t<h1>CS 328: Introduction to Data Science</h1>\n",
    "\t<h2>Assignment 2</h2>\n",
    "\tShardul Junagade <br>\n",
    "\t23110297\n",
    "</div>"
   ]
  },
  {
   "cell_type": "markdown",
   "id": "2f519916",
   "metadata": {},
   "source": [
    "### Importing Libraries"
   ]
  },
  {
   "cell_type": "code",
   "execution_count": null,
   "id": "9b6fa1b8",
   "metadata": {},
   "outputs": [],
   "source": [
    "# !uv pip install networkx matplotlib pandas numpy tqdm\n",
    "import networkx as nx\n",
    "import matplotlib.pyplot as plt\n",
    "from collections import Counter\n",
    "import csv\n",
    "import pandas as pd\n",
    "import numpy as np\n",
    "from tqdm import tqdm"
   ]
  },
  {
   "cell_type": "markdown",
   "id": "0031bfd9",
   "metadata": {},
   "source": [
    "## Question 1\n",
    "\n",
    "Q1. Implement the greedy algorithm for the densest subgraph. Run your algorithm on the [linked dataset](https://snap.stanford.edu/data/facebook-large-page-page-network.html). Report the density of the component extracted, as well as the histogram of the page categories in the densest subgraph. Also report the overall histogram of page categories and comment on how similar/different the two histograms are. Also compare its density with the density of the whole graph.\n"
   ]
  },
  {
   "cell_type": "code",
   "execution_count": null,
   "id": "b3c89012",
   "metadata": {},
   "outputs": [],
   "source": [
    "# Function to compute the density of a subgraph\n",
    "def compute_density(subgraph):\n",
    "    if subgraph.number_of_nodes() == 0:\n",
    "        return 0\n",
    "    return subgraph.number_of_edges() / subgraph.number_of_nodes()\n",
    "\n",
    "\n",
    "def greedy_densest_subgraph(G):\n",
    "    \"\"\"\n",
    "    Implementation of the greedy 2-approximation algorithm for the densest subgraph problem.\n",
    "    This algorithm iteratively removes the node with the minimum degree until no edges are left.\n",
    "    The subgraph with the maximum density is returned.\n",
    "\n",
    "    Parameters:\n",
    "    G (networkx.Graph): The input graph.\n",
    "    \"\"\"\n",
    "    # Create a copy of the original graph to work on\n",
    "    current_subgraph = G.copy()\n",
    "    if current_subgraph.number_of_nodes() == 0:\n",
    "        return None, 0, [], []\n",
    "    \n",
    "    best_density = compute_density(current_subgraph)\n",
    "    best_subgraph = current_subgraph.copy()\n",
    "    densities = [best_density]\n",
    "    removal_order = []\n",
    "\n",
    "    # Use tqdm to display progress\n",
    "    with tqdm(total=current_subgraph.number_of_nodes(), desc=\"Removing nodes\") as pbar:\n",
    "        while current_subgraph.number_of_nodes() > 0:\n",
    "            min_degree_node = min(current_subgraph.nodes(), key=lambda v: current_subgraph.degree(v))\n",
    "            removal_order.append(min_degree_node)\n",
    "            current_subgraph.remove_node(min_degree_node)\n",
    "            density = compute_density(current_subgraph)\n",
    "            densities.append(density)\n",
    "            if density > best_density:\n",
    "                best_density = density\n",
    "                best_subgraph = current_subgraph.copy()\n",
    "            pbar.update(1)\n",
    "    \n",
    "    print(\"\\nDensest subgraph statistics:\")\n",
    "    print(f\"Number of nodes: {best_subgraph.number_of_nodes()}\")\n",
    "    print(f\"Number of edges: {best_subgraph.number_of_edges()}\")\n",
    "    print(f\"Density: {best_density}\")\n",
    "    print(f\"Removal order: {removal_order}\")\n",
    "    \n",
    "    # Create a plot of density\n",
    "    plt.figure(figsize=(10, 6))\n",
    "    plt.plot(densities, marker='o')\n",
    "    plt.title('Density of the subgraph during removal of nodes')\n",
    "    plt.xlabel('Number of nodes removed')\n",
    "    plt.ylabel('Density')\n",
    "    plt.grid()\n",
    "    plt.savefig('density_plot.png')\n",
    "    plt.close()\n",
    "\n",
    "    return best_subgraph, best_density, removal_order, densities"
   ]
  },
  {
   "cell_type": "code",
   "execution_count": 5,
   "id": "fb3840d2",
   "metadata": {},
   "outputs": [],
   "source": [
    "facebook_root = \"./data/facebook_large/\"\n",
    "\n",
    "node_attrs = {}\n",
    "with open(facebook_root + \"musae_facebook_target.csv\", newline='', encoding=\"utf-8\") as csvfile:\n",
    "    reader = csv.DictReader(csvfile)\n",
    "    for row in reader:\n",
    "        # row['id'] is the node id (as a string), row['page_type'] is the category\n",
    "        node_attrs[int(row['id'])] = {\n",
    "            'facebook_id': row['facebook_id'],\n",
    "            'page_name': row['page_name'],\n",
    "            'page_type': row['page_type']\n",
    "        }\n",
    "\n",
    "# Load the edge list\n",
    "edges_df = pd.read_csv(facebook_root + \"musae_facebook_edges.csv\", delimiter=\",\", header=0)\n",
    "edges = edges_df.values.tolist()\n",
    "\n",
    "# Create a undirected NetworkX graph and add node attributes\n",
    "G = nx.Graph()\n",
    "G.add_edges_from(edges)\n",
    "for node, attrs in node_attrs.items():\n",
    "    G.nodes[node].update(attrs)"
   ]
  },
  {
   "cell_type": "code",
   "execution_count": 6,
   "id": "148b6310",
   "metadata": {},
   "outputs": [
    {
     "name": "stdout",
     "output_type": "stream",
     "text": [
      "Number of nodes: 22470\n",
      "Number of edges: 171002\n",
      "Density of the whole graph: 7.610235870048954\n",
      "Number of connected components: 1\n",
      "\n",
      "First 5 nodes and their attributes:\n",
      "      (0, {'facebook_id': '145647315578475', 'page_name': 'The Voice of China 中国好声音', 'page_type': 'tvshow'})\n",
      "      (1, {'facebook_id': '191483281412', 'page_name': 'U.S. Consulate General Mumbai', 'page_type': 'government'})\n",
      "      (2, {'facebook_id': '144761358898518', 'page_name': 'ESET', 'page_type': 'company'})\n",
      "      (3, {'facebook_id': '568700043198473', 'page_name': 'Consulate General of Switzerland in Montreal', 'page_type': 'government'})\n",
      "      (4, {'facebook_id': '1408935539376139', 'page_name': 'Mark Bailey MP - Labor for Miller', 'page_type': 'politician'})\n"
     ]
    }
   ],
   "source": [
    "print(\"Number of nodes:\", G.number_of_nodes())\n",
    "print(\"Number of edges:\", G.number_of_edges())\n",
    "print(\"Density of the whole graph:\", compute_density(G))\n",
    "print(\"Number of connected components:\", nx.number_connected_components(G))\n",
    "print(\"\\nFirst 5 nodes and their attributes:\")\n",
    "for node in list(sorted(G.nodes(data=True)))[:5]:\n",
    "    print(\"     \", node)\n"
   ]
  },
  {
   "cell_type": "code",
   "execution_count": null,
   "id": "ccf5eca0",
   "metadata": {},
   "outputs": [],
   "source": [
    "run_greedy = True\n",
    "if run_greedy:\n",
    "    densest_subgraph, best_density, removal_order, densities = greedy_densest_subgraph(G)\n",
    "    nx.write_gml(densest_subgraph, \"densest_subgraph.gml\")\n",
    "else:\n",
    "    # load saved densest subgraph\n",
    "    densest_subgraph = nx.read_gml(\"densest_subgraph.gml\")\n",
    "    best_density = compute_density(densest_subgraph)"
   ]
  },
  {
   "cell_type": "code",
   "execution_count": null,
   "id": "ab3b640c",
   "metadata": {},
   "outputs": [
    {
     "name": "stderr",
     "output_type": "stream",
     "text": [
      "Removing nodes:  35%|███▍      | 7807/22470 [1:52:02<2:59:28,  1.36it/s]"
     ]
    }
   ],
   "source": [
    "best_subgraph, best_density, removal_order, densities = greedy_densest_subgraph(G)"
   ]
  },
  {
   "cell_type": "code",
   "execution_count": null,
   "id": "e41f95a2",
   "metadata": {},
   "outputs": [],
   "source": [
    "print(f\"Density of the entire graph: {compute_density(G)}\")\n",
    "print(f\"Density of the densest subgraph: {best_density}\")\n",
    "\n",
    "# Save the densest subgraph to a file\n",
    "nx.write_gml(best_subgraph, \"densest_subgraph.gml\")"
   ]
  },
  {
   "cell_type": "markdown",
   "id": "902cc3dc",
   "metadata": {},
   "source": []
  }
 ],
 "metadata": {
  "kernelspec": {
   "display_name": ".venv",
   "language": "python",
   "name": "python3"
  },
  "language_info": {
   "codemirror_mode": {
    "name": "ipython",
    "version": 3
   },
   "file_extension": ".py",
   "mimetype": "text/x-python",
   "name": "python",
   "nbconvert_exporter": "python",
   "pygments_lexer": "ipython3",
   "version": "3.12.9"
  }
 },
 "nbformat": 4,
 "nbformat_minor": 5
}
