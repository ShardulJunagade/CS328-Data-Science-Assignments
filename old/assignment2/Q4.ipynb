{
 "cells": [
  {
   "cell_type": "code",
   "execution_count": 1,
   "id": "aa85b215",
   "metadata": {},
   "outputs": [],
   "source": [
    "import os\n",
    "from tqdm import tqdm\n",
    "import datetime\n",
    "import random\n",
    "import string\n",
    "import numpy as np\n",
    "import matplotlib.pyplot as plt\n",
    "import hashlib\n",
    "\n",
    "# set seed\n",
    "seed = 42\n",
    "np.random.seed(seed)\n",
    "random.seed(seed)"
   ]
  },
  {
   "cell_type": "code",
   "execution_count": 2,
   "id": "91036ad9",
   "metadata": {},
   "outputs": [],
   "source": [
    "save_dir = \"./assets/assignment2/\"\n",
    "ques = [\"Q1/\", \"Q2/\", \"Q3/\", \"Q4/\"]\n",
    "save_dirs = [save_dir + q for q in ques]\n",
    "for save_dir in save_dirs:\n",
    "    if not os.path.exists(save_dir):\n",
    "        os.makedirs(save_dir)"
   ]
  },
  {
   "cell_type": "markdown",
   "id": "ed717ea8",
   "metadata": {},
   "source": [
    "## Question 4\n",
    "\n",
    "Q4. Consider the following dataset and query set:\n",
    "   - Generate a corpus of 1 million random strings, each of length 100\n",
    "   - Create a query set of size 5,000 where:\n",
    "     - 50% (2,500) are randomly selected from the corpus\n",
    "     - 50% (2,500) are new random strings not in the corpus\n",
    "\n",
    "Implement a Bloom filter ($m$ bits, $k$ hash functions) for answering whether each of the queries are present in the data. For the $k$ hash functions, use MD5 with $k$ different seeds and then do a $\\mod(\\cdot)$ to get a number in $[0,m)$.\n",
    "\n",
    "Fix the size of the Bloom filter to $m=1024$ bits. Do different implementations, one for each $k\\in\\{2,4,6,8,10,12\\}$. Plot $k$ (number of hash functions) vs false positive rate. Determine the optimal $k$ for your dataset. Find out the optimal $k$ for your dataset and calculate the empirical false positive rate for that too."
   ]
  },
  {
   "cell_type": "code",
   "execution_count": 3,
   "id": "2b89f65b",
   "metadata": {},
   "outputs": [],
   "source": [
    "class BloomFilter:\n",
    "    def __init__(self, m, k):\n",
    "        self.m = m  # size of the bloom filter in bits\n",
    "        self.k = k  # number of hash functions\n",
    "        self.bit_array = np.zeros(m, dtype=bool)  # bit array to store the bloom filter\n",
    "    \n",
    "    def _hash(self, item, seed):\n",
    "        # use md5 hash function with different seeds\n",
    "        hash_object = hashlib.md5((item + str(seed)).encode())\n",
    "        hash_value = int(hash_object.hexdigest(), 16) % self.m\n",
    "        return hash_value\n",
    "    \n",
    "    def insert(self, item):\n",
    "        # insert an item into the bloom filter\n",
    "        for i in range(self.k):\n",
    "            hash_value = self._hash(item, i)\n",
    "            self.bit_array[hash_value] = True\n",
    "    \n",
    "    def query(self, item):\n",
    "        # query an item in the bloom filter\n",
    "        for i in range(self.k):\n",
    "            hash_value = self._hash(item, i)\n",
    "            if not self.bit_array[hash_value]:\n",
    "                return False\n",
    "        return True\n",
    "\n",
    "def theoretical_fp_rate(m, n, k):\n",
    "    # calculate the theoretical false positive rate\n",
    "    return (1 - np.exp(-k*n/m))**k\n",
    "\n",
    "def theoretical_optimal_k(m, n):\n",
    "    # calculate the theoretical optimal k\n",
    "    return int((m/n) * np.log(2))\n",
    "\n",
    "def m_for_fp_rate(fp_rate, n):\n",
    "    # calculate the size of the bloom filter for a given false positive rate\n",
    "    return int(np.ceil(-n * np.log(fp_rate) / (np.log(2)**2)))\n"
   ]
  },
  {
   "cell_type": "code",
   "execution_count": 4,
   "id": "56a738ac",
   "metadata": {},
   "outputs": [
    {
     "name": "stdout",
     "output_type": "stream",
     "text": [
      "Value of m for required false positive rate: 6235225\n",
      "Run file: ./assets/assignment2/Q4/runs/bloom_run_20250404_095308.txt\n"
     ]
    }
   ],
   "source": [
    "corpus_size = 1000000\n",
    "query_size = 5000\n",
    "string_length = 100\n",
    "required_fp_rate = 0.05\n",
    "m = m_for_fp_rate(required_fp_rate, corpus_size)\n",
    "print(\"Value of m for required false positive rate:\", m)        # size of bloom filter\n",
    "# m=1024\n",
    "k_values = [2, 4, 6, 8, 10, 12]          # number of hash functions\n",
    "\n",
    "run_dir = save_dirs[3] + \"runs/\"\n",
    "if not os.path.exists(run_dir):\n",
    "    os.makedirs(run_dir)\n",
    "run_file = run_dir + \"bloom_run_\" + datetime.datetime.now().strftime(\"%Y%m%d_%H%M%S\") + \".txt\"\n",
    "print(\"Run file:\", run_file)"
   ]
  },
  {
   "cell_type": "code",
   "execution_count": null,
   "id": "25d0a9ec",
   "metadata": {},
   "outputs": [],
   "source": [
    "create_corpus = True\n",
    "run_bloom = True"
   ]
  },
  {
   "cell_type": "code",
   "execution_count": 6,
   "id": "c611c394",
   "metadata": {},
   "outputs": [
    {
     "name": "stdout",
     "output_type": "stream",
     "text": [
      "Loading corpus...\n"
     ]
    },
    {
     "name": "stdout",
     "output_type": "stream",
     "text": [
      "Loading query set...\n",
      "Corpus and query set loaded successfully.\n"
     ]
    }
   ],
   "source": [
    "def generate_random_string(length=100):\n",
    "    letters = string.ascii_letters + string.digits\n",
    "    return ''.join(random.choice(letters) for i in range(length))\n",
    "\n",
    "if create_corpus:\n",
    "    # create a corpus of 1 million random strings, each of length 100\n",
    "    print(\"Generating corpus...\")\n",
    "    corpus = [generate_random_string(string_length) for _ in tqdm(range(corpus_size))]\n",
    "    corpus_set = set(corpus)\n",
    "    with open(save_dirs[3] + \"corpus.txt\", \"w\") as f:\n",
    "        f.write(\"\\n\".join(corpus))\n",
    "    \n",
    "    # create a query set of size 5,000 where:\n",
    "    # 50% (2,500) are randomly selected from the corpus\n",
    "    # 50% (2,500) are new random strings not in the corpus\n",
    "    print(\"Generating query set...\")\n",
    "    positive_queries = random.sample(corpus, query_size//2)\n",
    "    negative_queries = []\n",
    "    while len(negative_queries) < query_size//2:\n",
    "        new_query = generate_random_string(string_length)\n",
    "        if new_query not in corpus_set:\n",
    "            negative_queries.append(new_query)\n",
    "    query_set = positive_queries + negative_queries\n",
    "    random.shuffle(query_set)\n",
    "    with open(save_dirs[3] + \"queries.txt\", \"w\") as f:\n",
    "        f.write(\"\\n\".join(query_set))\n",
    "    with open(save_dirs[3] + \"positive_queries.txt\", \"w\") as f:\n",
    "        f.write(\"\\n\".join(positive_queries))\n",
    "    with open(save_dirs[3] + \"negative_queries.txt\", \"w\") as f:\n",
    "        f.write(\"\\n\".join(negative_queries))\n",
    "\n",
    "else:\n",
    "    print(\"Loading corpus...\")\n",
    "    with open(save_dirs[3] + \"corpus.txt\", \"r\") as f:\n",
    "        corpus = f.read().splitlines()\n",
    "    corpus_set = set(corpus)\n",
    "    print(\"Loading query set...\")\n",
    "    with open(save_dirs[3] + \"queries.txt\", \"r\") as f:\n",
    "        query_set = f.read().splitlines()\n",
    "    with open(save_dirs[3] + \"positive_queries.txt\", \"r\") as f:\n",
    "        positive_queries = f.read().splitlines()\n",
    "    with open(save_dirs[3] + \"negative_queries.txt\", \"r\") as f:\n",
    "        negative_queries = f.read().splitlines()\n",
    "    print(\"Corpus and query set loaded successfully.\")"
   ]
  },
  {
   "cell_type": "code",
   "execution_count": 7,
   "id": "dbdade7a",
   "metadata": {},
   "outputs": [
    {
     "name": "stdout",
     "output_type": "stream",
     "text": [
      "Running Bloom filter with k=2...\n"
     ]
    },
    {
     "name": "stderr",
     "output_type": "stream",
     "text": [
      "100%|██████████| 1000000/1000000 [00:12<00:00, 79888.68it/s]\n"
     ]
    },
    {
     "name": "stdout",
     "output_type": "stream",
     "text": [
      "Querying Bloom filter...\n"
     ]
    },
    {
     "name": "stderr",
     "output_type": "stream",
     "text": [
      "100%|██████████| 5000/5000 [00:00<00:00, 17851.11it/s]\n"
     ]
    },
    {
     "name": "stdout",
     "output_type": "stream",
     "text": [
      "Confusion Matrix for k=2:\n",
      "    True Positives: 2500, False Positives: 223\n",
      "    True Negatives: 2277, False Negatives: 0\n",
      "False Positive Rate for k=2: 0.0892\n",
      "\n",
      "Running Bloom filter with k=4...\n"
     ]
    },
    {
     "name": "stderr",
     "output_type": "stream",
     "text": [
      "100%|██████████| 1000000/1000000 [00:21<00:00, 45675.89it/s]\n"
     ]
    },
    {
     "name": "stdout",
     "output_type": "stream",
     "text": [
      "Querying Bloom filter...\n"
     ]
    },
    {
     "name": "stderr",
     "output_type": "stream",
     "text": [
      "100%|██████████| 5000/5000 [00:00<00:00, 7519.99it/s]\n"
     ]
    },
    {
     "name": "stdout",
     "output_type": "stream",
     "text": [
      "Confusion Matrix for k=4:\n",
      "    True Positives: 2500, False Positives: 126\n",
      "    True Negatives: 2374, False Negatives: 0\n",
      "False Positive Rate for k=4: 0.0504\n",
      "\n",
      "Running Bloom filter with k=6...\n"
     ]
    },
    {
     "name": "stderr",
     "output_type": "stream",
     "text": [
      "100%|██████████| 1000000/1000000 [00:40<00:00, 24707.99it/s]\n"
     ]
    },
    {
     "name": "stdout",
     "output_type": "stream",
     "text": [
      "Querying Bloom filter...\n"
     ]
    },
    {
     "name": "stderr",
     "output_type": "stream",
     "text": [
      "100%|██████████| 5000/5000 [00:00<00:00, 18502.54it/s]\n"
     ]
    },
    {
     "name": "stdout",
     "output_type": "stream",
     "text": [
      "Confusion Matrix for k=6:\n",
      "    True Positives: 2500, False Positives: 138\n",
      "    True Negatives: 2362, False Negatives: 0\n",
      "False Positive Rate for k=6: 0.0552\n",
      "\n",
      "Running Bloom filter with k=8...\n"
     ]
    },
    {
     "name": "stderr",
     "output_type": "stream",
     "text": [
      "100%|██████████| 1000000/1000000 [00:30<00:00, 33117.11it/s]\n"
     ]
    },
    {
     "name": "stdout",
     "output_type": "stream",
     "text": [
      "Querying Bloom filter...\n"
     ]
    },
    {
     "name": "stderr",
     "output_type": "stream",
     "text": [
      "100%|██████████| 5000/5000 [00:00<00:00, 15468.26it/s]\n"
     ]
    },
    {
     "name": "stdout",
     "output_type": "stream",
     "text": [
      "Confusion Matrix for k=8:\n",
      "    True Positives: 2500, False Positives: 196\n",
      "    True Negatives: 2304, False Negatives: 0\n",
      "False Positive Rate for k=8: 0.0784\n",
      "\n",
      "Running Bloom filter with k=10...\n"
     ]
    },
    {
     "name": "stderr",
     "output_type": "stream",
     "text": [
      "100%|██████████| 1000000/1000000 [01:08<00:00, 14561.64it/s]\n"
     ]
    },
    {
     "name": "stdout",
     "output_type": "stream",
     "text": [
      "Querying Bloom filter...\n"
     ]
    },
    {
     "name": "stderr",
     "output_type": "stream",
     "text": [
      "100%|██████████| 5000/5000 [00:01<00:00, 3654.80it/s]\n"
     ]
    },
    {
     "name": "stdout",
     "output_type": "stream",
     "text": [
      "Confusion Matrix for k=10:\n",
      "    True Positives: 2500, False Positives: 286\n",
      "    True Negatives: 2214, False Negatives: 0\n",
      "False Positive Rate for k=10: 0.1144\n",
      "\n",
      "Running Bloom filter with k=12...\n"
     ]
    },
    {
     "name": "stderr",
     "output_type": "stream",
     "text": [
      "100%|██████████| 1000000/1000000 [00:59<00:00, 16743.43it/s]\n"
     ]
    },
    {
     "name": "stdout",
     "output_type": "stream",
     "text": [
      "Querying Bloom filter...\n"
     ]
    },
    {
     "name": "stderr",
     "output_type": "stream",
     "text": [
      "100%|██████████| 5000/5000 [00:00<00:00, 12800.42it/s]"
     ]
    },
    {
     "name": "stdout",
     "output_type": "stream",
     "text": [
      "Confusion Matrix for k=12:\n",
      "    True Positives: 2500, False Positives: 363\n",
      "    True Negatives: 2137, False Negatives: 0\n",
      "False Positive Rate for k=12: 0.1452\n",
      "\n"
     ]
    },
    {
     "name": "stderr",
     "output_type": "stream",
     "text": [
      "\n"
     ]
    }
   ],
   "source": [
    "if run_bloom:\n",
    "    with open(run_file, \"w\") as f:\n",
    "        f.write(f\"Corpus size: {corpus_size}\\n\")\n",
    "        f.write(f\"Query size: {query_size}\\n\")\n",
    "        f.write(f\"String length: {string_length}\\n\")\n",
    "        f.write(f\"Bloom filter size (m): {m}\\n\")\n",
    "        f.write(f\"Hash functions (k): {k_values}\\n\")\n",
    "        \n",
    "    fp_rate_results = []\n",
    "    for k in k_values:\n",
    "        print(f\"Running Bloom filter with k={k}...\")\n",
    "        # create a bloom filter with m bits and k hash functions\n",
    "        bloom_filter = BloomFilter(m, k)\n",
    "        true_positives = 0\n",
    "        false_positives = 0\n",
    "        true_negatives = 0\n",
    "        false_negatives = 0\n",
    "    \n",
    "        # insert all items in the corpus into the bloom filter\n",
    "        for item in tqdm(corpus):\n",
    "            bloom_filter.insert(item)\n",
    "        \n",
    "        # query the bloom filter with the query set\n",
    "        print(\"Querying Bloom filter...\")\n",
    "        for item in tqdm(query_set):\n",
    "            if item in positive_queries:\n",
    "                if bloom_filter.query(item):\n",
    "                    true_positives += 1\n",
    "                else:\n",
    "                    false_negatives += 1\n",
    "            else:\n",
    "                if bloom_filter.query(item):\n",
    "                    false_positives += 1\n",
    "                else:\n",
    "                    true_negatives += 1\n",
    "\n",
    "        # confusion matrix\n",
    "        print(f\"Confusion Matrix for k={k}:\")\n",
    "        print(f\"    True Positives: {true_positives}, False Positives: {false_positives}\")\n",
    "        print(f\"    True Negatives: {true_negatives}, False Negatives: {false_negatives}\")\n",
    "        # calculate false positive rate\n",
    "        false_positive_rate = false_positives / (query_size//2)\n",
    "        print(f\"False Positive Rate for k={k}: {false_positive_rate:.4f}\\n\")\n",
    "        fp_rate_results.append((k, false_positive_rate))\n",
    "        \n",
    "        # save the results\n",
    "        with open(run_file, \"a\") as f:\n",
    "            f.write(f\"\\nRunning Bloom filter with k={k}...\\n\")\n",
    "            f.write(f\"Confusion Matrix for k={k}:\\n\")\n",
    "            f.write(f\"True Positives: {true_positives}, False Positives: {false_positives}\\n\")\n",
    "            f.write(f\"True Negatives: {true_negatives}, False Negatives: {false_negatives}\\n\")\n",
    "            f.write(f\"False Positive Rate for k={k}: {false_positive_rate:.4f}\\n\")\n",
    "    np.save(save_dirs[3] + \"fp_rate_results.npy\", fp_rate_results)\n",
    "\n",
    "else:\n",
    "    print(\"Loading Bloom filter results...\")\n",
    "    fp_rate_results = np.load(save_dirs[3] + \"fp_rate_results.npy\", allow_pickle=True).tolist()"
   ]
  },
  {
   "cell_type": "code",
   "execution_count": 8,
   "id": "50a1c9b9",
   "metadata": {},
   "outputs": [
    {
     "name": "stdout",
     "output_type": "stream",
     "text": [
      "Optimal k for the dataset: 4\n",
      "Optimal False Positive Rate for the dataset: 0.0504\n",
      "Theoretical optimal k: 4\n",
      "False positive rate for theoretical optimal k: 0.0503\n"
     ]
    },
    {
     "data": {
      "image/png": "[encoded data removed]",
      "text/plain": [
       "<Figure size 1000x600 with 1 Axes>"
      ]
     },
     "metadata": {},
     "output_type": "display_data"
    }
   ],
   "source": [
    "k_values, fp_rates = zip(*fp_rate_results)\n",
    "\n",
    "optimal_k = k_values[np.argmin(fp_rates)]\n",
    "optimal_fp_rate = min(fp_rates)\n",
    "print(f\"Optimal k for the dataset: {optimal_k}\")\n",
    "print(f\"Optimal False Positive Rate for the dataset: {optimal_fp_rate:.4f}\")\n",
    "\n",
    "theo_opt_k = theoretical_optimal_k(m, corpus_size)\n",
    "theo_rates = [theoretical_fp_rate(m, corpus_size, k) for k in k_values]\n",
    "theo_fp_rate = theoretical_fp_rate(m, corpus_size, theo_opt_k)\n",
    "print(f\"Theoretical optimal k: {theo_opt_k}\")\n",
    "print(f\"False positive rate for theoretical optimal k: {theo_fp_rate:.4f}\")\n",
    "\n",
    "# save the optimal k and false positive rate\n",
    "if run_bloom:\n",
    "    with open(run_file, \"a\") as f:\n",
    "        f.write(f\"\\nOptimal k for the dataset: {optimal_k}\\n\")\n",
    "        f.write(f\"Optimal False Positive Rate for the dataset: {optimal_fp_rate:.4f}\\n\")\n",
    "        f.write(f\"\\nTheoretical optimal k: {theo_opt_k}\\n\")\n",
    "        f.write(f\"False positive rate for theoretical optimal k: {theo_fp_rate:.4f}\\n\")\n",
    "\n",
    "\n",
    "# Plotting the results\n",
    "plt.figure(figsize=(10, 6))\n",
    "plt.plot(k_values, fp_rates, 'bo-', label='Experimental')\n",
    "plt.plot(k_values, theo_rates, 'ro--', label='Theoretical')\n",
    "\n",
    "# Mark optimal k\n",
    "# plt.axvline(x=opt_k, color='g', linestyle='--', label=f'Optimal k (theoretical) = {opt_k}')\n",
    "# Find experimental optimal k\n",
    "exp_opt_k = k_values[fp_rates.index(min(fp_rates))]\n",
    "plt.axvline(x=exp_opt_k, color='g', linestyle='--', label=f'Optimal k (experimental) = {exp_opt_k}')\n",
    "\n",
    "plt.title('False Positive Rate vs Number of Hash Functions')\n",
    "plt.xlabel('Number of Hash Functions (k)')\n",
    "plt.ylabel('False Positive Rate')\n",
    "plt.xticks(k_values)\n",
    "plt.grid(True)\n",
    "plt.legend()\n",
    "plt.savefig(save_dirs[3] + \"bloom_filter_fp_rate.png\", dpi=300)\n",
    "plt.show()\n"
   ]
  },
  {
   "cell_type": "markdown",
   "id": "58ba1097",
   "metadata": {},
   "source": []
  }
 ],
 "metadata": {
  "kernelspec": {
   "display_name": ".venv",
   "language": "python",
   "name": "python3"
  },
  "language_info": {
   "codemirror_mode": {
    "name": "ipython",
    "version": 3
   },
   "file_extension": ".py",
   "mimetype": "text/x-python",
   "name": "python",
   "nbconvert_exporter": "python",
   "pygments_lexer": "ipython3",
   "version": "3.12.9"
  }
 },
 "nbformat": 4,
 "nbformat_minor": 5
}
