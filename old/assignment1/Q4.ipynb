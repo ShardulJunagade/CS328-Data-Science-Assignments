{
 "cells": [
  {
   "cell_type": "markdown",
   "metadata": {},
   "source": [
    "## Question 4\n",
    "\n",
    "Q4. Download the MNIST dataset from [http://yann.lecun.com/exdb/mnist/](http://yann.lecun.com/exdb/mnist/). We will use the test dataset and test labels only.\n",
    "\n",
    "1. Cluster them first using k-means clustering, k = 10, with $kmeans++$ initialization (implement the complete Lloyd’s algorithm yourself). Check the Rand-index of the clustering against the true labels. Use the sklearn module for rand-index.\n",
    "2. Do the same for $k$-center clustering, $k$ = 10. Implement the greedy algorithm discussed in class. Report the Rand-index here too.\n",
    "3. Run the single linkage agglomeration till there are $k$ = 10 clusters. Report Rand-index here too.\n",
    "4. Run the same algorithms (k-means and k-center) but on a rank-$k$ approximation of the training data matrix. Note that if $A$ is the training data matrix (images $×$ pixels), then you can just use $U_k Σ_k$ for the clustering, no need to use $V_k$. Evaluate for $k$ = 2,5,10 and report the rand-index values.\n"
   ]
  },
  {
   "cell_type": "markdown",
   "metadata": {
    "vscode": {
     "languageId": "plaintext"
    }
   },
   "source": [
    "### **Solution:**"
   ]
  },
  {
   "cell_type": "code",
   "execution_count": null,
   "metadata": {},
   "outputs": [],
   "source": [
    "import numpy as np\n",
    "from sklearn.metrics import rand_score"
   ]
  },
  {
   "cell_type": "code",
   "execution_count": null,
   "metadata": {},
   "outputs": [
    {
     "name": "stdout",
     "output_type": "stream",
     "text": [
      "X shape: (10000, 784)\n",
      "y shape: (10000,)\n"
     ]
    }
   ],
   "source": [
    "from datasets import load_mnist\n",
    "\n",
    "X, y = load_mnist(path='./data/MNIST', kind='t10k', normalize=True)\n",
    "\n",
    "print('X shape:', X.shape)\n",
    "print('y shape:', y.shape)"
   ]
  },
  {
   "cell_type": "code",
   "execution_count": 20,
   "metadata": {},
   "outputs": [],
   "source": [
    "rand_scores = []"
   ]
  },
  {
   "cell_type": "markdown",
   "metadata": {},
   "source": [
    "### k-Means Clustering"
   ]
  },
  {
   "cell_type": "code",
   "execution_count": 3,
   "metadata": {},
   "outputs": [],
   "source": [
    "class Cluster:\n",
    "    def __init__(self, points):\n",
    "        \"\"\"Initialize a cluster with a list of points.\"\"\"\n",
    "        self.points = np.array(points)\n",
    "        self.size = len(points)\n",
    "        self.mean = self.compute_mean()\n",
    "    \n",
    "    def compute_mean(self):\n",
    "        \"\"\"Compute the mean of the cluster.\"\"\"\n",
    "        self.mean = np.mean(self.points, axis=0) if self.size > 0 else np.zeros(self.points.shape[1])\n",
    "        return self.mean"
   ]
  },
  {
   "cell_type": "code",
   "execution_count": 4,
   "metadata": {},
   "outputs": [],
   "source": [
    "class KMeansClustering:\n",
    "    def __init__(self, X, k):\n",
    "        self.X = X\n",
    "        self.k = k\n",
    "        self.centroids = None\n",
    "        self.clusters = None\n",
    "        self.labels = None\n",
    "\n",
    "    def _initialize_centroids(self, init_method='random'):\n",
    "        \"\"\"Initialize the centroids of the clusters.\"\"\"\n",
    "        n, d = self.X.shape\n",
    "        if init_method == 'random':\n",
    "            self.centroids = self.X[np.random.choice(n, self.k, replace=False)]\n",
    "        elif init_method == 'kmeans++':\n",
    "            # Initialize centroids using kmeans++ method\n",
    "            self.centroids = [self.X[np.random.choice(n)]]\n",
    "            while len(self.centroids) < self.k:\n",
    "                dist_sq = np.min(np.linalg.norm(self.X[:, np.newaxis] - np.array(self.centroids), axis=2)**2, axis=1)\n",
    "                prob = dist_sq / np.sum(dist_sq)\n",
    "                new_centroid = self.X[np.random.choice(n, p=prob)]\n",
    "                self.centroids.append(new_centroid)\n",
    "            self.centroids = np.array(self.centroids)\n",
    "        else:\n",
    "            raise ValueError(\"Invalid initialization method. Choose from 'random' or 'kmeans++'.\")\n",
    "\n",
    "    def fit(self, max_iters=100, tol=1e-4, init_method='random'):\n",
    "        \"\"\"Fit the KMeans model to the data.\"\"\"\n",
    "        # Initialize centroids using the chosen method\n",
    "        self._initialize_centroids(init_method)\n",
    "        for _ in range(max_iters):\n",
    "            # Assign each point to the closest centroid\n",
    "            distances = np.linalg.norm(self.X[:, np.newaxis] - self.centroids, axis=2)\n",
    "            labels = np.argmin(distances, axis=1)\n",
    "            # Compute new centroids\n",
    "            new_centroids = np.array([self.X[labels == i].mean(axis=0) if np.any(labels == i) else self.centroids[i] for i in range(self.k)])\n",
    "            # Check for convergence\n",
    "            if np.linalg.norm(new_centroids - self.centroids) < tol:\n",
    "                break\n",
    "            self.centroids = new_centroids\n",
    "        # Create clusters based on the final centroids\n",
    "        self.clusters = [Cluster(self.X[labels == i]) for i in range(self.k)]\n",
    "        self.labels = labels\n",
    "\n",
    "    def get_centroids(self):\n",
    "        return self.centroids\n",
    "\n",
    "    def get_clusters(self):\n",
    "        return self.clusters\n",
    "    \n",
    "    def get_labels(self):\n",
    "\t    return self.labels\n"
   ]
  },
  {
   "cell_type": "code",
   "execution_count": null,
   "metadata": {},
   "outputs": [
    {
     "name": "stdout",
     "output_type": "stream",
     "text": [
      "K-Means++ Rand Index: 0.8908109410941094\n"
     ]
    }
   ],
   "source": [
    "kmeanspp = KMeansClustering(X, k=10)\n",
    "kmeanspp.fit(init_method='kmeans++')\n",
    "\n",
    "kmeanspp_rand = rand_score(y, kmeanspp.get_labels())\n",
    "rand_scores.append(kmeanspp_rand)\n",
    "print('K-Means++ Rand Index:', kmeanspp_rand)"
   ]
  },
  {
   "cell_type": "markdown",
   "metadata": {},
   "source": [
    "### k-Center Clustering"
   ]
  },
  {
   "cell_type": "code",
   "execution_count": 15,
   "metadata": {},
   "outputs": [],
   "source": [
    "class KCenterClustering:\n",
    "\tdef __init__(self, X, k):\n",
    "\t\tself.X = X\n",
    "\t\tself.k = k\n",
    "\t\tself.centers = None\n",
    "\t\tself.clusters = None\n",
    "\t\tself.labels = None\n",
    "\n",
    "\tdef fit(self):\n",
    "\t\tn, d = self.X.shape\n",
    "\t\t# Initialize the centers\n",
    "\t\tself.centers = [self.X[np.random.choice(n)]]\n",
    "\t\tfor _ in range(1, self.k):\n",
    "\t\t\tdist_sq = np.min(np.linalg.norm(self.X[:, np.newaxis] - np.array(self.centers), axis=2)**2, axis=1)\n",
    "\t\t\tnew_center = self.X[np.argmax(dist_sq)]\n",
    "\t\t\tself.centers.append(new_center)\n",
    "\t\tself.centers = np.array(self.centers)\n",
    "\t\t# Assign each point to the closest center\n",
    "\t\tdistances = np.linalg.norm(self.X[:, np.newaxis] - self.centers, axis=2)\n",
    "\t\tlabels = np.argmin(distances, axis=1)\n",
    "\t\t# Create clusters based on the centers\n",
    "\t\tself.labels = labels\n",
    "\t\tself.clusters = [Cluster(self.X[labels == i]) for i in range(self.k)]\n",
    "\n",
    "\tdef get_centers(self):\n",
    "\t\treturn self.centers\n",
    "\t\n",
    "\tdef get_clusters(self):\n",
    "\t\treturn self.clusters\n",
    "\t\n",
    "\tdef get_labels(self):\n",
    "\t\treturn self.labels"
   ]
  },
  {
   "cell_type": "code",
   "execution_count": null,
   "metadata": {},
   "outputs": [
    {
     "name": "stdout",
     "output_type": "stream",
     "text": [
      "K-Center Rand Index: 0.6146236823682368\n"
     ]
    }
   ],
   "source": [
    "kcenter = KCenterClustering(X, k=10)\n",
    "kcenter.fit()\n",
    "\n",
    "kcenter_rand = rand_score(y, kcenter.get_labels())\n",
    "rand_scores.append(kcenter_rand)\n",
    "print('K-Center Rand Index:', kcenter_rand)"
   ]
  },
  {
   "cell_type": "markdown",
   "metadata": {},
   "source": [
    "### Single Linkage Agglomeration"
   ]
  },
  {
   "cell_type": "code",
   "execution_count": null,
   "metadata": {},
   "outputs": [
    {
     "name": "stdout",
     "output_type": "stream",
     "text": [
      "Single-Linkage Rand Index: 0.1017039703970397\n"
     ]
    }
   ],
   "source": [
    "from sklearn.cluster import AgglomerativeClustering\n",
    "single_linkage = AgglomerativeClustering(n_clusters=10, linkage='single')\n",
    "single_linkage.fit(X)\n",
    "single_linkage_rand = rand_score(y, single_linkage.labels_)\n",
    "rand_scores.append(single_linkage_rand)\n",
    "print('Single-Linkage Rand Index:', single_linkage_rand)"
   ]
  },
  {
   "cell_type": "markdown",
   "metadata": {},
   "source": [
    "### Rank-k Approximation"
   ]
  },
  {
   "cell_type": "code",
   "execution_count": null,
   "metadata": {
    "vscode": {
     "languageId": "ruby"
    }
   },
   "outputs": [
    {
     "name": "stdout",
     "output_type": "stream",
     "text": [
      "K-Means Rank-2 Rand Index: 0.8306503850385039\n",
      "K-Center Rank-2 Rand Index: 0.6551273927392739\n",
      "K-Means Rank-5 Rand Index: 0.8706734673467347\n",
      "K-Center Rank-5 Rand Index: 0.8010637863786378\n",
      "K-Means Rank-10 Rand Index: 0.8773658365836584\n",
      "K-Center Rank-10 Rand Index: 0.8150186618661867\n"
     ]
    }
   ],
   "source": [
    "def rank_k_approx(X, k):\n",
    "\tU, S, Vt = np.linalg.svd(X, full_matrices=False)\n",
    "\treturn U[:, :k] @ np.diag(S[:k])\n",
    "\n",
    "k_values = [2, 5, 10]\n",
    "\n",
    "for k in k_values:\n",
    "\tX_rank_k = rank_k_approx(X, k)\n",
    "\n",
    "\t# K-Means on Rank-k approximated data\n",
    "\tkmeans_rank_k = KMeansClustering(X_rank_k, k=10)\n",
    "\tkmeans_rank_k.fit()\n",
    "\tkmeans_rank_k_rand = rand_score(y, kmeans_rank_k.get_labels())\n",
    "\tprint(f'K-Means Rank-{k} Rand Index:', kmeans_rank_k_rand)\n",
    "\n",
    "\t# K-Center on Rank-k approximated data\n",
    "\tkcenter_rank_k = KCenterClustering(X_rank_k, k=10)\n",
    "\tkcenter_rank_k.fit()\n",
    "\tkcenter_rank_k_rand = rand_score(y, kcenter_rank_k.get_labels())\n",
    "\tprint(f'K-Center Rank-{k} Rand Index:', kcenter_rank_k_rand)\n",
    "\n",
    "\trand_scores.append([kmeans_rank_k_rand, kcenter_rank_k_rand])"
   ]
  },
  {
   "cell_type": "markdown",
   "metadata": {},
   "source": [
    "### Final Results"
   ]
  },
  {
   "cell_type": "code",
   "execution_count": 35,
   "metadata": {
    "vscode": {
     "languageId": "ruby"
    }
   },
   "outputs": [
    {
     "name": "stdout",
     "output_type": "stream",
     "text": [
      "[np.float64(0.8908109410941094), np.float64(0.6146236823682368), np.float64(0.1017039703970397), [np.float64(0.8306503850385039), np.float64(0.6551273927392739)], [np.float64(0.8706734673467347), np.float64(0.8010637863786378)], [np.float64(0.8773658365836584), np.float64(0.8150186618661867)]]\n"
     ]
    }
   ],
   "source": [
    "print(rand_scores)"
   ]
  },
  {
   "cell_type": "code",
   "execution_count": 33,
   "metadata": {},
   "outputs": [
    {
     "name": "stdout",
     "output_type": "stream",
     "text": [
      "All Rand Scores:\n",
      "\n",
      "Q4. a) K-Means++ Rand Index     : 0.8908\n",
      "Q4. b) K-Center Rand Index      : 0.6146\n",
      "Q4. c) Single-Linkage Rand Index: 0.1017\n",
      "Q4. d) Rank-2 : K-Means Rand Index: 0.8307, K-Center Rand Index: 0.6551\n",
      "       Rank-5 : K-Means Rand Index: 0.8707, K-Center Rand Index: 0.8011\n",
      "       Rank-10: K-Means Rand Index: 0.8774, K-Center Rand Index: 0.8150\n"
     ]
    }
   ],
   "source": [
    "# print all rand scores question and bit wise\n",
    "print('All Rand Scores:\\n')\n",
    "print(f\"Q4. a) K-Means++ Rand Index     : {kmeanspp_rand:.4f}\")\n",
    "print(f\"Q4. b) K-Center Rand Index      : {kcenter_rand:.4f}\")\n",
    "print(f\"Q4. c) Single-Linkage Rand Index: {single_linkage_rand:.4f}\")\n",
    "print(f\"Q4. d) Rank-2 : K-Means Rand Index: {rand_scores[3][0]:.4f}, K-Center Rand Index: {rand_scores[3][1]:.4f}\")\n",
    "print(f\"       Rank-5 : K-Means Rand Index: {rand_scores[4][0]:.4f}, K-Center Rand Index: {rand_scores[4][1]:.4f}\")\n",
    "print(f\"       Rank-10: K-Means Rand Index: {rand_scores[5][0]:.4f}, K-Center Rand Index: {rand_scores[5][1]:.4f}\")\n"
   ]
  },
  {
   "cell_type": "markdown",
   "metadata": {},
   "source": []
  }
 ],
 "metadata": {
  "kernelspec": {
   "display_name": ".venv (3.12.9)",
   "language": "python",
   "name": "python3"
  },
  "language_info": {
   "codemirror_mode": {
    "name": "ipython",
    "version": 3
   },
   "file_extension": ".py",
   "mimetype": "text/x-python",
   "name": "python",
   "nbconvert_exporter": "python",
   "pygments_lexer": "ipython3",
   "version": "3.12.9"
  }
 },
 "nbformat": 4,
 "nbformat_minor": 2
}
