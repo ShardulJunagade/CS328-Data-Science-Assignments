{
 "cells": [
  {
   "cell_type": "markdown",
   "id": "c8671a2d",
   "metadata": {},
   "source": [
    "<div align=\"center\">\n",
    "\t<h1>CS 328: Introduction to Data Science</h1>\n",
    "\t<h2>Assignment 2</h2>\n",
    "\tShardul Junagade <br>\n",
    "\t23110297\n",
    "</div>"
   ]
  },
  {
   "cell_type": "markdown",
   "id": "2f519916",
   "metadata": {},
   "source": [
    "### Importing Libraries"
   ]
  },
  {
   "cell_type": "code",
   "execution_count": null,
   "id": "9b6fa1b8",
   "metadata": {},
   "outputs": [],
   "source": [
    "import os\n",
    "import csv\n",
    "from collections import Counter\n",
    "import numpy as np\n",
    "import pandas as pd\n",
    "import matplotlib.pyplot as plt\n",
    "from tqdm import tqdm\n",
    "import datetime\n",
    "import random\n",
    "import string\n",
    "\n",
    "# set seed\n",
    "seed = 42\n",
    "np.random.seed(seed)\n",
    "\n",
    "from scipy.sparse import lil_matrix, linalg, csgraph\n",
    "from sklearn.cluster import KMeans\n",
    "import hashlib"
   ]
  },
  {
   "cell_type": "code",
   "execution_count": 2,
   "id": "a382d218",
   "metadata": {},
   "outputs": [],
   "source": [
    "save_dir = \"./assets/assignment2/\"\n",
    "ques = [\"Q1/\", \"Q2/\", \"Q3/\", \"Q4/\"]\n",
    "save_dirs = [save_dir + q for q in ques]\n",
    "for save_dir in save_dirs:\n",
    "    if not os.path.exists(save_dir):\n",
    "        os.makedirs(save_dir)\n",
    "del save_dir, ques"
   ]
  },
  {
   "cell_type": "markdown",
   "id": "5668b53f",
   "metadata": {},
   "source": [
    "## Question 1\n",
    "\n",
    "Q1. Implement the greedy algorithm for the densest subgraph. Run your algorithm on the [linked dataset](https://snap.stanford.edu/data/facebook-large-page-page-network.html). Report the density of the component extracted, as well as the histogram of the page categories in the densest subgraph. Also report the overall histogram of page categories and comment on how similar/different the two histograms are. Also compare its density with the density of the whole graph.\n"
   ]
  },
  {
   "cell_type": "markdown",
   "id": "cc7fbd15",
   "metadata": {},
   "source": [
    "### Solution:\n",
    "\n",
    "The goal of this problem is to extract the densest subgraph from a given network using a greedy algorithm. \n",
    "\n",
    "Given a graph represented as an adjacency matrix $A$, the density $D$ of a subgraph $S$ with $n$ nodes and $m$ edges is defined as:\n",
    "\n",
    "$$D = \\frac{m}{n}$$\n",
    "\n",
    "The greedy approach iteratively removes the node with the lowest degree and computes the density at each step. The subgraph with the highest density encountered during this process is selected as the densest subgraph.\n"
   ]
  },
  {
   "cell_type": "code",
   "execution_count": 3,
   "id": "e5744f6e",
   "metadata": {},
   "outputs": [],
   "source": [
    "facebook_root = \"./data/facebook_large/\"\n",
    "target_file = facebook_root + \"musae_facebook_target.csv\"\n",
    "edges_file = facebook_root + \"musae_facebook_edges.csv\""
   ]
  },
  {
   "cell_type": "markdown",
   "id": "1185da73",
   "metadata": {},
   "source": [
    "**Loading Dataset:**\n",
    "\n",
    "The dataset consists of:\n",
    "- `musae_facebook_target.csv`: Contains node attributes, including `page_type`\n",
    "- `musae_facebook_edges.csv`: Contains edge relationships"
   ]
  },
  {
   "cell_type": "code",
   "execution_count": 4,
   "id": "9a68fc38",
   "metadata": {},
   "outputs": [
    {
     "name": "stdout",
     "output_type": "stream",
     "text": [
      "Number of nodes (loaded from target file): 22470\n",
      "Number of nodes (determined from edges file): 22470\n"
     ]
    },
    {
     "name": "stderr",
     "output_type": "stream",
     "text": [
      "Loading edges: 100%|██████████| 171002/171002 [00:02<00:00, 80635.10it/s]"
     ]
    },
    {
     "name": "stdout",
     "output_type": "stream",
     "text": [
      "\n",
      "Adjacency matrix shape: (22470, 22470)\n",
      "Number of edges (in adjacency matrix): 171001\n",
      "Number of nodes (in adjacency matrix): 22470\n"
     ]
    },
    {
     "name": "stderr",
     "output_type": "stream",
     "text": [
      "\n"
     ]
    }
   ],
   "source": [
    "node_attrs = {}\n",
    "with open(target_file, newline='', encoding=\"utf-8\") as csvfile:\n",
    "    reader = csv.DictReader(csvfile)\n",
    "    for row in reader:\n",
    "        node_attrs[int(row['id'])] = {\n",
    "            'facebook_id': row['facebook_id'],\n",
    "            'page_name': row['page_name'],\n",
    "            'page_type': row['page_type']\n",
    "        }\n",
    "num_nodes = len(node_attrs)\n",
    "print(f\"Number of nodes (loaded from target file): {num_nodes}\")\n",
    "\n",
    "edges_df = pd.read_csv(edges_file)\n",
    "num_nodes = max(edges_df['id_1'].max(), edges_df['id_2'].max()) + 1\n",
    "print(f\"Number of nodes (determined from edges file): {num_nodes}\")\n",
    "\n",
    "adj_matrix = lil_matrix((num_nodes, num_nodes), dtype=np.int8)\n",
    "for src, dst in tqdm(zip(edges_df['id_1'], edges_df['id_2']), total=len(edges_df), desc=\"Loading edges\"):\n",
    "    adj_matrix[src, dst] = 1\n",
    "    adj_matrix[dst, src] = 1\n",
    "\n",
    "# Convert to CSR format for faster operations\n",
    "adj_matrix = adj_matrix.tocsr()\n",
    "print(f\"\\nAdjacency matrix shape: {adj_matrix.shape}\")\n",
    "\n",
    "# check number of edges in adjacency matrix, also count self loops \n",
    "num_edges = adj_matrix.sum() // 2 + adj_matrix.diagonal().sum() // 2\n",
    "print(f\"Number of edges (in adjacency matrix): {num_edges}\")\n",
    "# check number of nodes in adjacency matrix\n",
    "print(f\"Number of nodes (in adjacency matrix): {adj_matrix.shape[0]}\")"
   ]
  },
  {
   "cell_type": "code",
   "execution_count": 5,
   "id": "27b94f8a",
   "metadata": {},
   "outputs": [
    {
     "name": "stdout",
     "output_type": "stream",
     "text": [
      "Page types: ['company', 'government', 'politician', 'tvshow']\n"
     ]
    }
   ],
   "source": [
    "# different categories of page types\n",
    "page_types = set()\n",
    "for node in node_attrs.values():\n",
    "    page_types.add(node['page_type'])\n",
    "page_types = sorted(list(page_types))\n",
    "print(f\"Page types: {page_types}\")"
   ]
  },
  {
   "cell_type": "markdown",
   "id": "0def8256",
   "metadata": {},
   "source": [
    "**Computing Graph Density:**\n",
    "The density of a graph $G$ is defined as:\n",
    "\n",
    "$$D(G) = \\frac{|E|}{|V|}$$\n",
    "\n",
    "where $|E|$ is the number of edges and $|V|$ is the number of nodes.\n"
   ]
  },
  {
   "cell_type": "code",
   "execution_count": 6,
   "id": "90db6340",
   "metadata": {},
   "outputs": [],
   "source": [
    "# Compute graph density\n",
    "def calculate_density(adj_matrix, active_mask=None):\n",
    "    if active_mask is None:\n",
    "        active_mask = np.ones(adj_matrix.shape[0], dtype=bool)\n",
    "    num_active_nodes = active_mask.sum()\n",
    "    if num_active_nodes == 0:\n",
    "        return 0.0\n",
    "    num_edges = adj_matrix[active_mask][:, active_mask].sum() / 2\n",
    "    return num_edges / num_active_nodes\n",
    "\n",
    "# Greedy densest subgraph algorithm\n",
    "def greedy_densest_subgraph(adj_matrix):\n",
    "    active_mask = np.ones(num_nodes, dtype=bool)\n",
    "    degrees = degrees = adj_matrix.sum(axis=1).astype(float)  # Ensure float dtype\n",
    "    max_density = calculate_density(adj_matrix, active_mask)\n",
    "    best_active_mask = active_mask.copy()\n",
    "    removal_order = []\n",
    "    densities = [max_density]\n",
    "    \n",
    "    with tqdm(total=num_nodes, desc=\"Removing nodes\") as pbar:\n",
    "        while active_mask.sum() > 0:\n",
    "            min_degree_node = np.argmin(degrees)\n",
    "            active_mask[min_degree_node] = False  # Remove node\n",
    "            neighbors = adj_matrix[min_degree_node].nonzero()[1]\n",
    "            degrees[neighbors] -= 1  # Update degrees\n",
    "            degrees[min_degree_node] = np.inf  # Mark removed node\n",
    "            removal_order.append(min_degree_node)\n",
    "            \n",
    "            current_density = calculate_density(adj_matrix, active_mask)\n",
    "            densities.append(current_density)\n",
    "            if current_density > max_density:\n",
    "                max_density = current_density\n",
    "                best_active_mask = active_mask.copy()\n",
    "            \n",
    "            pbar.set_postfix_str(f\"Best density: {max_density:.4f}\")\n",
    "            pbar.update(1)\n",
    "    \n",
    "    return best_active_mask, max_density, removal_order, densities"
   ]
  },
  {
   "cell_type": "code",
   "execution_count": 7,
   "id": "9570e175",
   "metadata": {},
   "outputs": [],
   "source": [
    "run_greedy = False  # Set to True to run the greedy algorithm, False to load results (for the sake of time)\n",
    "if run_greedy:\n",
    "    best_active_mask, max_density, removal_order, densities = greedy_densest_subgraph(adj_matrix)\n",
    "    np.save(save_dirs[0] + \"best_active_mask.npy\", best_active_mask)\n",
    "    np.save(save_dirs[0] + \"removal_order.npy\", removal_order)\n",
    "    np.save(save_dirs[0] + \"densities.npy\", densities)\n",
    "else:\n",
    "    best_active_mask = np.load(save_dirs[0] + \"best_active_mask.npy\")\n",
    "    best_active_mask = best_active_mask.astype(bool)\n",
    "    removal_order = np.load(save_dirs[0] + \"removal_order.npy\")\n",
    "    densities = np.load(save_dirs[0] + \"densities.npy\")\n",
    "    max_density = densities.max()"
   ]
  },
  {
   "cell_type": "code",
   "execution_count": 8,
   "id": "53023279",
   "metadata": {},
   "outputs": [
    {
     "name": "stdout",
     "output_type": "stream",
     "text": [
      "Densest Subgraph Staatistics:\n",
      "    Number of nodes: 320\n",
      "    Number of edges: 11201\n",
      "    Density: 35.003125\n"
     ]
    },
    {
     "data": {
      "image/png": "[encoded data removed]",
      "text/plain": [
       "<Figure size 1000x500 with 1 Axes>"
      ]
     },
     "metadata": {},
     "output_type": "display_data"
    }
   ],
   "source": [
    "print(\"Densest Subgraph Staatistics:\")\n",
    "print(f\"    Number of nodes: {best_active_mask.sum()}\")\n",
    "print(f\"    Number of edges: {int(adj_matrix[best_active_mask][:, best_active_mask].sum() / 2)}\")\n",
    "print(f\"    Density: {max_density}\")\n",
    "# print(f\"    Removal order: {list(removal_order)}\")\n",
    "\n",
    "# Plotting the density over iterations\n",
    "plt.figure(figsize=(10, 5))\n",
    "plt.plot(densities, color='blue')\n",
    "plt.title('Density over iterations')\n",
    "plt.xlabel('Iteration')\n",
    "plt.ylabel('Density')\n",
    "plt.grid()\n",
    "plt.savefig(save_dirs[0] + \"density_over_iterations.png\", dpi=300)\n",
    "plt.show()"
   ]
  },
  {
   "cell_type": "code",
   "execution_count": 9,
   "id": "a4c2e910",
   "metadata": {},
   "outputs": [
    {
     "name": "stdout",
     "output_type": "stream",
     "text": [
      "Density of the entire graph    : 7.6063\n",
      "Density of the densest subgraph: 35.0031\n"
     ]
    }
   ],
   "source": [
    "print(f\"Density of the entire graph    : {calculate_density(adj_matrix):.4f}\")\n",
    "print(f\"Density of the densest subgraph: {max_density:.4f}\")"
   ]
  },
  {
   "cell_type": "code",
   "execution_count": 10,
   "id": "e26ddcc4",
   "metadata": {},
   "outputs": [
    {
     "name": "stdout",
     "output_type": "stream",
     "text": [
      "Category counts in the whole graph:\n",
      "    company: 6495\n",
      "    government: 6880\n",
      "    politician: 5768\n",
      "    tvshow: 3327\n",
      "Category counts in the densest subgraph:\n",
      "    company: 4\n",
      "    government: 256\n",
      "    politician: 0\n",
      "    tvshow: 60\n"
     ]
    },
    {
     "data": {
      "image/png": "[encoded data removed]",
      "text/plain": [
       "<Figure size 1400x600 with 2 Axes>"
      ]
     },
     "metadata": {},
     "output_type": "display_data"
    }
   ],
   "source": [
    "full_mask = np.ones(num_nodes, dtype=bool)\n",
    "full_categories = [node_attrs[node]['page_type'] for node in np.where(full_mask)[0]]\n",
    "densest_categories = [node_attrs[node]['page_type'] for node in np.where(best_active_mask)[0]]\n",
    "full_counts = Counter(full_categories)\n",
    "densest_counts = Counter(densest_categories)\n",
    "\n",
    "# Ensure both histograms have the same categories\n",
    "all_categories = sorted(set(full_counts.keys()).union(set(densest_counts.keys())))\n",
    "full_freqs = [full_counts.get(cat, 0) for cat in all_categories]\n",
    "densest_freqs = [densest_counts.get(cat, 0) for cat in all_categories]\n",
    "\n",
    "# Print category counts\n",
    "print(\"Category counts in the whole graph:\")\n",
    "for cat, count in zip(all_categories, full_freqs):\n",
    "    print(f\"    {cat}: {count}\")\n",
    "print(\"Category counts in the densest subgraph:\")\n",
    "for cat, count in zip(all_categories, densest_freqs):\n",
    "    print(f\"    {cat}: {count}\")\n",
    "\n",
    "# Plot histograms\n",
    "fig, axes = plt.subplots(1, 2, figsize=(14, 6))             # I had added sharey=True to share y-axis between subplots, but the values in second subplot are too small to be visible.\n",
    "axes[0].bar(all_categories, full_freqs, color='skyblue')\n",
    "axes[0].set_title(\"Whole Graph\")\n",
    "axes[0].set_ylabel(\"Frequency\")\n",
    "axes[1].bar(all_categories, densest_freqs, color='lightgreen')\n",
    "axes[1].set_title(\"Densest Subgraph\")\n",
    "axes[1].set_ylabel(\"Frequency\")\n",
    "fig.suptitle(\"Comparison of Page Categories\")\n",
    "plt.tight_layout()\n",
    "plt.savefig(save_dirs[0]+\"category_histogram_comparison.png\", dpi=300)\n",
    "plt.show()"
   ]
  },
  {
   "cell_type": "markdown",
   "id": "ee117bda",
   "metadata": {},
   "source": [
    "### Results and Observations:\n",
    "\n",
    "1. **Overall Histogram of Page Categories:**\n",
    "    - The overall histogram of page categories in the entire graph is as follows:\n",
    "      - `government`: 6880\n",
    "      - `company`: 6495\n",
    "      - `politician`: 5768\n",
    "      - `tvshow`: 3327\n",
    "    - This indicates that the `government` category has the highest frequency, followed by `company`, `politician`, and `tvshow`.\n",
    "\n",
    "2. **Histogram of Page Categories in the Densest Subgraph:**\n",
    "    - The histogram of page categories in the densest subgraph is as follows:\n",
    "      - `government`: 256\n",
    "      - `company`: 4\n",
    "      - `politician`: 0\n",
    "      - `tvshow`: 60\n",
    "    - The `government` category dominates the densest subgraph, with a significant reduction in the presence of other categories compared to the overall graph.\n",
    "\n",
    "3. **Comparison of Histograms:**\n",
    "    - The densest subgraph is heavily skewed towards the `government` category, which constitutes the majority of nodes in this subgraph. \n",
    "    - In contrast, the overall graph has a more balanced distribution across categories, with `government` and `company` being the most frequent categories, followed by `politician` and `tvshow`.\n",
    "\n",
    "4. **Comparison of Densities:**\n",
    "    - The density of the entire graph is approximately **7.6063**.\n",
    "    - The density of the densest subgraph is significantly higher at **35.0031**.\n",
    "    - This stark difference highlights the effectiveness of the greedy algorithm in identifying a highly dense subgraph within a sparse overall graph.\n",
    "\n",
    "5. **Insights:**\n",
    "    - The densest subgraph primarily consists of nodes from the `government` category, suggesting that these nodes are more interconnected compared to other categories.\n",
    "    - The absence of the `politician` category in the densest subgraph indicates that nodes in this category are less densely connected in the overall graph."
   ]
  },
  {
   "cell_type": "markdown",
   "id": "66eba983",
   "metadata": {},
   "source": [
    "## Question 2\n",
    "\n",
    "Q2. Consider the email communication dataset [linked here](https://snap.stanford.edu/data/email-Eu-core.html). Use it as an undirected network. Nodes are tagged with departments. Consider each department as a set and calculate both its density ($\\rho$) and conductance ($\\phi$). Find out the sparsest cut as given by the second eigenvector of the normalized Laplacian and report its conductance ($\\phi_{\\text{cut}}$). Also report the histogram of departments in the sparsest cut."
   ]
  },
  {
   "cell_type": "markdown",
   "id": "feadb8be",
   "metadata": {},
   "source": [
    "#### Solution:\n",
    "\n",
    "**Loading the Data:**\n",
    "\n",
    "- The dataset consists of two files:\n",
    "  - `email-Eu-core.txt`: Contains edges (email communications between individuals).\n",
    "  - `email-Eu-core-department-labels.txt`: Contains department labels for each individual.\n",
    "- We read both files and store them in appropriate data structures.\n"
   ]
  },
  {
   "cell_type": "code",
   "execution_count": null,
   "id": "a2a02c6b",
   "metadata": {},
   "outputs": [],
   "source": [
    "import networkx as nx"
   ]
  },
  {
   "cell_type": "code",
   "execution_count": null,
   "id": "517aed15",
   "metadata": {},
   "outputs": [
    {
     "name": "stdout",
     "output_type": "stream",
     "text": [
      "Number of edges extracted = 25571\n",
      "Number of edges after removing self-loops = 24929\n",
      "Number of edges after removing multi-edges = 16064\n"
     ]
    }
   ],
   "source": [
    "email_dir = \"./data/email-Eu-core/\"\n",
    "edge_file = email_dir + \"email-Eu-core.txt\"\n",
    "label_file = email_dir + \"email-Eu-core-department-labels.txt\"\n",
    "\n",
    "# Read the edge list and labels\n",
    "edges = pd.read_csv(edge_file, sep=\" \", header=None, names=[\"id_1\", \"id_2\"], dtype=int)\n",
    "edges = [(min(row[0], row[1]), max(row[0], row[1])) for row in edges.values]\n",
    "edges.sort(key=lambda x: (x[0], x[1]))  # sort edges by id_1 and id_2\n",
    "labels = pd.read_csv(label_file, sep=\" \", header=None, names=[\"id\", \"label\"], dtype=int)\n",
    "labels = labels[\"label\"].values\n",
    "print(\"Number of edges extracted =\", len(edges))\n",
    "\n",
    "# Removing self-loops\n",
    "edges = [edge for edge in edges if edge[0] != edge[1]]\n",
    "print(\"Number of edges after removing self-loops =\", len(edges))\n",
    "\n",
    "# Removing multi-edges\n",
    "edges = list(set(edges))\n",
    "print(\"Number of edges after removing multi-edges =\", len(edges))"
   ]
  },
  {
   "cell_type": "code",
   "execution_count": null,
   "id": "9bc99542",
   "metadata": {},
   "outputs": [
    {
     "name": "stdout",
     "output_type": "stream",
     "text": [
      "Number of members: 1005\n",
      "Number of departments: 42\n"
     ]
    }
   ],
   "source": [
    "num_members = len(labels)\n",
    "num_departments = len(set(labels))\n",
    "print(f\"Number of members: {num_members}\")\n",
    "print(f\"Number of departments: {num_departments}\")\n",
    "dept_masks = {}\n",
    "for i in range(num_departments):\n",
    "    dept_masks[i] = np.zeros(num_members, dtype=bool)\n",
    "for i in range(num_members):\n",
    "    dept_masks[labels[i]][i] = True"
   ]
  },
  {
   "cell_type": "code",
   "execution_count": null,
   "id": "6eaef9a9",
   "metadata": {},
   "outputs": [
    {
     "name": "stderr",
     "output_type": "stream",
     "text": [
      "  0%|          | 0/16064 [00:00<?, ?it/s]"
     ]
    },
    {
     "name": "stderr",
     "output_type": "stream",
     "text": [
      "100%|██████████| 16064/16064 [00:00<00:00, 75074.71it/s]"
     ]
    },
    {
     "name": "stdout",
     "output_type": "stream",
     "text": [
      "Adjacency matrix shape: (1005, 1005)\n"
     ]
    },
    {
     "name": "stderr",
     "output_type": "stream",
     "text": [
      "\n"
     ]
    }
   ],
   "source": [
    "adj_matrix = lil_matrix((num_members, num_members), dtype=np.int8)\n",
    "for id_1, id_2 in tqdm(edges, total=len(edges)):\n",
    "    adj_matrix[id_1, id_2] = 1\n",
    "    adj_matrix[id_2, id_1] = 1\n",
    "adj_matrix = adj_matrix.tocsr()\n",
    "print(f\"Adjacency matrix shape: {adj_matrix.shape}\")\n",
    "\n",
    "# Calculate the degree of each node\n",
    "degrees = np.array(adj_matrix.sum(axis=1)).flatten()"
   ]
  },
  {
   "cell_type": "markdown",
   "id": "2d810829",
   "metadata": {},
   "source": [
    "#### Conductance Calculation\n",
    "\n",
    "The conductance of a set $S$ measures how well-connected $S$ is to the rest of the graph relative to its internal connections:\n",
    "\n",
    "$$\\phi(S) = \\frac{|\\{(i,j) \\in E : i \\in S, j \\not\\in S\\}|}{\\min(\\text{vol}(S), \\text{vol}(V \\setminus S))}$$\n",
    "\n",
    "Where $\\text{vol}(S) = \\sum_{i \\in S} d_i$ is the sum of degrees of nodes in $S$.\n",
    "\n",
    "In matrix form, the numerator (cut size) can be calculated as:\n",
    "\n",
    "$$|\\{(i,j) \\in E : i \\in S, j \\not\\in S\\}| = \\sum_{i \\in S} \\sum_{j \\not\\in S} A_{ij}$$\n",
    "\n",
    "\n",
    "#### Sparsest Cut Computation\n",
    "##### Step 1: Compute Normalized Laplacian\n",
    "We use the normalized Laplacian matrix:\n",
    "$$\n",
    "L_{\\text{norm}} = I - D^{-\\frac{1}{2}} A D^{-\\frac{1}{2}}\n",
    "$$\n",
    "where:\n",
    "- $I$ is the identity matrix\n",
    "- $A$ is the adjacency matrix\n",
    "- $D$ is the diagonal degree matrix with $D_{ii} = d_i$\n",
    "\n",
    "\n",
    "##### Step 2: Find the Second Eigenvector\n",
    "- We compute the smallest two eigenvalues and eigenvectors of $L_{\\text{norm}}$.\n",
    "- The second eigenvector (Fiedler vector) is used to find a partition of the nodes.\n",
    "\n",
    "##### Step 3: Sweep Cut to Find Best Conductance\n",
    "- We sort nodes based on the Fiedler vector.\n",
    "- We iterate through different cuts, computing conductance at each step.\n",
    "- The best cut (minimizing conductance) is selected as the **sparsest cut**.\n"
   ]
  },
  {
   "cell_type": "code",
   "execution_count": null,
   "id": "7fa896ea",
   "metadata": {},
   "outputs": [],
   "source": [
    "def calculate_density(adj_matrix, mask=None):\n",
    "    if mask is None:\n",
    "        mask = np.ones(adj_matrix.shape[0], dtype=bool)\n",
    "    num_nodes = mask.sum()\n",
    "    masked_matrix = adj_matrix[mask][:, mask]\n",
    "    num_edges = masked_matrix.sum() / 2\n",
    "    density = num_edges / num_nodes if num_nodes > 0 else 0.0\n",
    "    return density\n",
    "\n",
    "def calculate_conductance(adj_matrix, degrees, mask=None):\n",
    "    if mask is None:\n",
    "        raise ValueError(\"mask cannot be None for conductance calculation.\")\n",
    "    num_nodes = np.sum(mask)\n",
    "    if num_nodes == 0:\n",
    "        return 0.0\n",
    "    cut_edges = adj_matrix[mask][:, ~mask].sum()\n",
    "    vol_s = np.sum(degrees[mask])\n",
    "    vol_s_complement = np.sum(degrees[~mask])\n",
    "    conductance = cut_edges / min(vol_s, vol_s_complement) if min(vol_s, vol_s_complement) > 0 else 0.0\n",
    "    return conductance\n",
    "\n",
    "def calculate_sparsest_cut(adj_matrix, degrees):\n",
    "    # using Spectral clustering to find the sparsest cut\n",
    "    print(\"Calculating the sparsest cut...\")\n",
    "    num_members = adj_matrix.shape[0]\n",
    "    laplacian = csgraph.laplacian(adj_matrix, normed=True)  # Normalized Laplacian\n",
    "    eigenvalues, eigenvectors = linalg.eigsh(laplacian, k=2, which='SM')\n",
    "    print(\"Eigenvalues: \", np.round(eigenvalues, 4))\n",
    "    second_smallest_eigenvector = np.real(eigenvectors[:, 1])\n",
    "    sorted_indices = np.argsort(second_smallest_eigenvector)\n",
    "    best_conductance = float('inf')\n",
    "    best_cut_idx = None\n",
    "    for i in range(1, len(sorted_indices)):\n",
    "        cut_mask = np.zeros(num_members, dtype=bool)\n",
    "        cut_mask[sorted_indices[:i]] = True\n",
    "        conductance = calculate_conductance(adj_matrix, degrees, cut_mask)\n",
    "        # print(f\"Iteration {i}: Conductance = {conductance}\")\n",
    "        if conductance < best_conductance:\n",
    "            best_conductance = conductance\n",
    "            best_cut_idx = i\n",
    "            # print(f\"New best conductance found: {best_conductance} at index {best_cut_idx}\")\n",
    "    cut_mask = np.zeros(num_members, dtype=bool)\n",
    "    cut_mask[sorted_indices[:best_cut_idx]] = True\n",
    "    complement_mask = ~cut_mask\n",
    "    # print(\"Sparsest cut calculated.\")\n",
    "    return cut_mask, complement_mask, best_conductance\n",
    "\n",
    "def calculate_histogram(adj_matrix, labels, departments, mask=None):\n",
    "    if mask is None:\n",
    "        mask = np.ones(adj_matrix.shape[0], dtype=bool)\n",
    "    cut_labels = labels[mask]\n",
    "    label_counts = Counter(cut_labels)\n",
    "    histogram = np.zeros(len(departments), dtype=int)\n",
    "    for label, count in label_counts.items():\n",
    "        histogram[label] = count\n",
    "    return histogram, label_counts"
   ]
  },
  {
   "cell_type": "code",
   "execution_count": null,
   "id": "116ca771",
   "metadata": {},
   "outputs": [
    {
     "name": "stdout",
     "output_type": "stream",
     "text": [
      "Department-wise Density and Conductance:\n"
     ]
    },
    {
     "data": {
      "text/html": [
       "<div>\n",
       "<style scoped>\n",
       "    .dataframe tbody tr th:only-of-type {\n",
       "        vertical-align: middle;\n",
       "    }\n",
       "\n",
       "    .dataframe tbody tr th {\n",
       "        vertical-align: top;\n",
       "    }\n",
       "\n",
       "    .dataframe thead th {\n",
       "        text-align: right;\n",
       "    }\n",
       "</style>\n",
       "<table border=\"1\" class=\"dataframe\">\n",
       "  <thead>\n",
       "    <tr style=\"text-align: right;\">\n",
       "      <th></th>\n",
       "      <th>Department</th>\n",
       "      <th>Density</th>\n",
       "      <th>Conductance</th>\n",
       "    </tr>\n",
       "  </thead>\n",
       "  <tbody>\n",
       "    <tr>\n",
       "      <th>0</th>\n",
       "      <td>0</td>\n",
       "      <td>5.346939</td>\n",
       "      <td>0.557806</td>\n",
       "    </tr>\n",
       "    <tr>\n",
       "      <th>1</th>\n",
       "      <td>1</td>\n",
       "      <td>5.092308</td>\n",
       "      <td>0.594859</td>\n",
       "    </tr>\n",
       "    <tr>\n",
       "      <th>2</th>\n",
       "      <td>2</td>\n",
       "      <td>2.400000</td>\n",
       "      <td>0.781818</td>\n",
       "    </tr>\n",
       "    <tr>\n",
       "      <th>3</th>\n",
       "      <td>3</td>\n",
       "      <td>2.666667</td>\n",
       "      <td>0.785235</td>\n",
       "    </tr>\n",
       "    <tr>\n",
       "      <th>4</th>\n",
       "      <td>4</td>\n",
       "      <td>6.834862</td>\n",
       "      <td>0.559041</td>\n",
       "    </tr>\n",
       "    <tr>\n",
       "      <th>5</th>\n",
       "      <td>5</td>\n",
       "      <td>5.111111</td>\n",
       "      <td>0.753351</td>\n",
       "    </tr>\n",
       "    <tr>\n",
       "      <th>6</th>\n",
       "      <td>6</td>\n",
       "      <td>0.678571</td>\n",
       "      <td>0.906404</td>\n",
       "    </tr>\n",
       "    <tr>\n",
       "      <th>7</th>\n",
       "      <td>7</td>\n",
       "      <td>8.490196</td>\n",
       "      <td>0.440930</td>\n",
       "    </tr>\n",
       "    <tr>\n",
       "      <th>8</th>\n",
       "      <td>8</td>\n",
       "      <td>4.368421</td>\n",
       "      <td>0.718644</td>\n",
       "    </tr>\n",
       "    <tr>\n",
       "      <th>9</th>\n",
       "      <td>9</td>\n",
       "      <td>2.718750</td>\n",
       "      <td>0.729814</td>\n",
       "    </tr>\n",
       "    <tr>\n",
       "      <th>10</th>\n",
       "      <td>10</td>\n",
       "      <td>7.487179</td>\n",
       "      <td>0.599451</td>\n",
       "    </tr>\n",
       "    <tr>\n",
       "      <th>11</th>\n",
       "      <td>11</td>\n",
       "      <td>7.137931</td>\n",
       "      <td>0.583920</td>\n",
       "    </tr>\n",
       "    <tr>\n",
       "      <th>12</th>\n",
       "      <td>12</td>\n",
       "      <td>1.000000</td>\n",
       "      <td>0.932584</td>\n",
       "    </tr>\n",
       "    <tr>\n",
       "      <th>13</th>\n",
       "      <td>13</td>\n",
       "      <td>6.192308</td>\n",
       "      <td>0.710171</td>\n",
       "    </tr>\n",
       "    <tr>\n",
       "      <th>14</th>\n",
       "      <td>14</td>\n",
       "      <td>10.576087</td>\n",
       "      <td>0.301006</td>\n",
       "    </tr>\n",
       "    <tr>\n",
       "      <th>15</th>\n",
       "      <td>15</td>\n",
       "      <td>4.363636</td>\n",
       "      <td>0.658363</td>\n",
       "    </tr>\n",
       "    <tr>\n",
       "      <th>16</th>\n",
       "      <td>16</td>\n",
       "      <td>5.840000</td>\n",
       "      <td>0.504244</td>\n",
       "    </tr>\n",
       "    <tr>\n",
       "      <th>17</th>\n",
       "      <td>17</td>\n",
       "      <td>7.285714</td>\n",
       "      <td>0.411765</td>\n",
       "    </tr>\n",
       "    <tr>\n",
       "      <th>18</th>\n",
       "      <td>18</td>\n",
       "      <td>0.000000</td>\n",
       "      <td>1.000000</td>\n",
       "    </tr>\n",
       "    <tr>\n",
       "      <th>19</th>\n",
       "      <td>19</td>\n",
       "      <td>6.275862</td>\n",
       "      <td>0.562500</td>\n",
       "    </tr>\n",
       "    <tr>\n",
       "      <th>20</th>\n",
       "      <td>20</td>\n",
       "      <td>2.785714</td>\n",
       "      <td>0.850000</td>\n",
       "    </tr>\n",
       "    <tr>\n",
       "      <th>21</th>\n",
       "      <td>21</td>\n",
       "      <td>5.819672</td>\n",
       "      <td>0.559280</td>\n",
       "    </tr>\n",
       "    <tr>\n",
       "      <th>22</th>\n",
       "      <td>22</td>\n",
       "      <td>2.720000</td>\n",
       "      <td>0.823377</td>\n",
       "    </tr>\n",
       "    <tr>\n",
       "      <th>23</th>\n",
       "      <td>23</td>\n",
       "      <td>0.629630</td>\n",
       "      <td>0.916049</td>\n",
       "    </tr>\n",
       "    <tr>\n",
       "      <th>24</th>\n",
       "      <td>24</td>\n",
       "      <td>0.333333</td>\n",
       "      <td>0.942029</td>\n",
       "    </tr>\n",
       "    <tr>\n",
       "      <th>25</th>\n",
       "      <td>25</td>\n",
       "      <td>2.500000</td>\n",
       "      <td>0.941176</td>\n",
       "    </tr>\n",
       "    <tr>\n",
       "      <th>26</th>\n",
       "      <td>26</td>\n",
       "      <td>2.111111</td>\n",
       "      <td>0.937294</td>\n",
       "    </tr>\n",
       "    <tr>\n",
       "      <th>27</th>\n",
       "      <td>27</td>\n",
       "      <td>0.200000</td>\n",
       "      <td>0.974843</td>\n",
       "    </tr>\n",
       "    <tr>\n",
       "      <th>28</th>\n",
       "      <td>28</td>\n",
       "      <td>1.250000</td>\n",
       "      <td>0.933333</td>\n",
       "    </tr>\n",
       "    <tr>\n",
       "      <th>29</th>\n",
       "      <td>29</td>\n",
       "      <td>0.400000</td>\n",
       "      <td>0.966942</td>\n",
       "    </tr>\n",
       "    <tr>\n",
       "      <th>30</th>\n",
       "      <td>30</td>\n",
       "      <td>0.500000</td>\n",
       "      <td>0.878788</td>\n",
       "    </tr>\n",
       "    <tr>\n",
       "      <th>31</th>\n",
       "      <td>31</td>\n",
       "      <td>0.000000</td>\n",
       "      <td>1.000000</td>\n",
       "    </tr>\n",
       "    <tr>\n",
       "      <th>32</th>\n",
       "      <td>32</td>\n",
       "      <td>1.777778</td>\n",
       "      <td>0.909091</td>\n",
       "    </tr>\n",
       "    <tr>\n",
       "      <th>33</th>\n",
       "      <td>33</td>\n",
       "      <td>0.000000</td>\n",
       "      <td>1.000000</td>\n",
       "    </tr>\n",
       "    <tr>\n",
       "      <th>34</th>\n",
       "      <td>34</td>\n",
       "      <td>1.769231</td>\n",
       "      <td>0.951579</td>\n",
       "    </tr>\n",
       "    <tr>\n",
       "      <th>35</th>\n",
       "      <td>35</td>\n",
       "      <td>2.846154</td>\n",
       "      <td>0.902116</td>\n",
       "    </tr>\n",
       "    <tr>\n",
       "      <th>36</th>\n",
       "      <td>36</td>\n",
       "      <td>5.590909</td>\n",
       "      <td>0.908448</td>\n",
       "    </tr>\n",
       "    <tr>\n",
       "      <th>37</th>\n",
       "      <td>37</td>\n",
       "      <td>4.066667</td>\n",
       "      <td>0.774492</td>\n",
       "    </tr>\n",
       "    <tr>\n",
       "      <th>38</th>\n",
       "      <td>38</td>\n",
       "      <td>2.153846</td>\n",
       "      <td>0.899461</td>\n",
       "    </tr>\n",
       "    <tr>\n",
       "      <th>39</th>\n",
       "      <td>39</td>\n",
       "      <td>0.333333</td>\n",
       "      <td>0.976471</td>\n",
       "    </tr>\n",
       "    <tr>\n",
       "      <th>40</th>\n",
       "      <td>40</td>\n",
       "      <td>1.500000</td>\n",
       "      <td>0.922078</td>\n",
       "    </tr>\n",
       "    <tr>\n",
       "      <th>41</th>\n",
       "      <td>41</td>\n",
       "      <td>0.000000</td>\n",
       "      <td>1.000000</td>\n",
       "    </tr>\n",
       "  </tbody>\n",
       "</table>\n",
       "</div>"
      ],
      "text/plain": [
       "    Department    Density  Conductance\n",
       "0            0   5.346939     0.557806\n",
       "1            1   5.092308     0.594859\n",
       "2            2   2.400000     0.781818\n",
       "3            3   2.666667     0.785235\n",
       "4            4   6.834862     0.559041\n",
       "5            5   5.111111     0.753351\n",
       "6            6   0.678571     0.906404\n",
       "7            7   8.490196     0.440930\n",
       "8            8   4.368421     0.718644\n",
       "9            9   2.718750     0.729814\n",
       "10          10   7.487179     0.599451\n",
       "11          11   7.137931     0.583920\n",
       "12          12   1.000000     0.932584\n",
       "13          13   6.192308     0.710171\n",
       "14          14  10.576087     0.301006\n",
       "15          15   4.363636     0.658363\n",
       "16          16   5.840000     0.504244\n",
       "17          17   7.285714     0.411765\n",
       "18          18   0.000000     1.000000\n",
       "19          19   6.275862     0.562500\n",
       "20          20   2.785714     0.850000\n",
       "21          21   5.819672     0.559280\n",
       "22          22   2.720000     0.823377\n",
       "23          23   0.629630     0.916049\n",
       "24          24   0.333333     0.942029\n",
       "25          25   2.500000     0.941176\n",
       "26          26   2.111111     0.937294\n",
       "27          27   0.200000     0.974843\n",
       "28          28   1.250000     0.933333\n",
       "29          29   0.400000     0.966942\n",
       "30          30   0.500000     0.878788\n",
       "31          31   0.000000     1.000000\n",
       "32          32   1.777778     0.909091\n",
       "33          33   0.000000     1.000000\n",
       "34          34   1.769231     0.951579\n",
       "35          35   2.846154     0.902116\n",
       "36          36   5.590909     0.908448\n",
       "37          37   4.066667     0.774492\n",
       "38          38   2.153846     0.899461\n",
       "39          39   0.333333     0.976471\n",
       "40          40   1.500000     0.922078\n",
       "41          41   0.000000     1.000000"
      ]
     },
     "metadata": {},
     "output_type": "display_data"
    }
   ],
   "source": [
    "# Calculate density and conductance for each department\n",
    "densities = []\n",
    "conductances = []\n",
    "for i in range(num_departments):\n",
    "    mask = dept_masks[i]\n",
    "    density = calculate_density(adj_matrix, mask)\n",
    "    conductance = calculate_conductance(adj_matrix, degrees, mask)\n",
    "    densities.append(density)\n",
    "    conductances.append(conductance)\n",
    "\n",
    "department_df = pd.DataFrame({\n",
    "    \"Department\": range(num_departments),\n",
    "    \"Density\": densities,\n",
    "    \"Conductance\": conductances\n",
    "})\n",
    "department_df.to_csv(save_dirs[1] + \"department_density_conductance.csv\", index=False)\n",
    "\n",
    "print(\"Department-wise Density and Conductance:\")\n",
    "display(department_df)"
   ]
  },
  {
   "cell_type": "code",
   "execution_count": null,
   "id": "176cf643",
   "metadata": {},
   "outputs": [
    {
     "name": "stdout",
     "output_type": "stream",
     "text": [
      "Number of nodes in the largest connected component: 986\n",
      "Calculating the sparsest cut...\n",
      "Eigenvalues:  [-0.      0.2121]\n",
      "Conductance of the sparsest cut: 0.2708\n",
      "Partition sizes: 82, 904\n"
     ]
    }
   ],
   "source": [
    "# Calculate the sparsest cut and its conductance of the largest connected component\n",
    "G = nx.from_scipy_sparse_array(adj_matrix)\n",
    "lcc_nodes = max(nx.connected_components(G), key=len)\n",
    "G_lcc = G.subgraph(lcc_nodes).copy()\n",
    "adj_matrix_lcc = nx.to_scipy_sparse_array(G_lcc, format='csr')\n",
    "print(f\"Number of nodes in the largest connected component: {len(lcc_nodes)}\")\n",
    "degrees_lcc = np.array(adj_matrix_lcc.sum(axis=1)).flatten()\n",
    "labels_lcc_list = labels[list(lcc_nodes)]\n",
    "\n",
    "cut_mask, complement_mask, best_conductance = calculate_sparsest_cut(adj_matrix_lcc, degrees_lcc)\n",
    "np.save(save_dirs[1] + \"sparsest_cut_mask.npy\", cut_mask)\n",
    "\n",
    "print(f\"Conductance of the sparsest cut: {best_conductance:.4f}\")\n",
    "print(f\"Partition sizes: {np.sum(cut_mask)}, {np.sum(complement_mask)}\")"
   ]
  },
  {
   "cell_type": "code",
   "execution_count": null,
   "id": "69aa127d",
   "metadata": {},
   "outputs": [
    {
     "data": {
      "image/png": "[encoded data removed]",
      "text/plain": [
       "<Figure size 1200x600 with 1 Axes>"
      ]
     },
     "metadata": {},
     "output_type": "display_data"
    }
   ],
   "source": [
    "sparse_cut_dept_histogram, sparse_cut_label_counts = calculate_histogram(adj_matrix_lcc, labels_lcc_list, range(num_departments), cut_mask)\n",
    "complement_mask_histogram, complement_label_counts = calculate_histogram(adj_matrix_lcc, labels_lcc_list, range(num_departments), complement_mask)\n",
    "\n",
    "plt.figure(figsize=(12, 6))\n",
    "bar_width = 0.35\n",
    "indices = np.arange(num_departments)\n",
    "\n",
    "plt.bar(indices, sparse_cut_dept_histogram, bar_width, color='red', alpha=0.5, label='Sparsest Cut')\n",
    "plt.bar(indices + bar_width, complement_mask_histogram, bar_width, color='green', alpha=0.5, label='Complement')\n",
    "\n",
    "plt.xlabel(\"Department\")\n",
    "plt.ylabel(\"Count\")\n",
    "plt.title(\"Department Histogram in Sparsest Cut\")\n",
    "plt.xticks(indices + bar_width / 2, range(num_departments))\n",
    "plt.legend()\n",
    "plt.savefig(save_dirs[1] + \"sparsest_cut_histogram.png\", dpi=300)\n",
    "plt.show()"
   ]
  },
  {
   "cell_type": "markdown",
   "id": "3660241e",
   "metadata": {},
   "source": [
    "## Question 3\n",
    "\n",
    "Q3. Create a 1-dimensional dataset in the following manner – pick 100 samples from each of following two Gaussians.\n",
    "\n",
    "<div style=\"margin-left: 25px;\">\n",
    "(a) mean = 0, variance = 1. \n",
    "<br> \n",
    "(b) mean = 3, variance = 1.  \n",
    "</div>\n",
    "\n",
    "Use sklearn’s implementation for kmeans. First try k-means on this data using $k = 2$. What are the centers? What fraction of points are correctly classified?\n",
    "\n",
    "Now, suppose we want to use distance rather than squared distance (i.e., k-median). Let us do an exhaustive search over all 2-clusterings (left $s$ points in one cluster and rest $200 - s$ in the other cluster). Find the best one according to the k-median objective. What are the centers? Did distance work better or the squared distance?"
   ]
  },
  {
   "cell_type": "markdown",
   "id": "ca6bd91c",
   "metadata": {},
   "source": [
    "#### Solution:\n",
    "We create a 1-dimensional dataset by sampling from two Gaussian distributions:\n",
    "- 100 samples from a Gaussian with $\\mu = 0, \\sigma^2 = 1$\n",
    "- 100 samples from a Gaussian with $\\mu = 3, \\sigma^2 = 1$\n"
   ]
  },
  {
   "cell_type": "code",
   "execution_count": null,
   "id": "d4302b9c",
   "metadata": {},
   "outputs": [],
   "source": [
    "samples_a = np.random.normal(loc=0, scale=1, size=100)\n",
    "samples_b = np.random.normal(loc=3, scale=1, size=100)\n",
    "X = np.concatenate((samples_a, samples_b)).reshape(-1, 1)\n",
    "y = np.array([0]*100 + [1]*100)\n",
    "np.save(save_dirs[2] + \"X.npy\", X)"
   ]
  },
  {
   "cell_type": "code",
   "execution_count": null,
   "id": "28c3c9d3",
   "metadata": {},
   "outputs": [
    {
     "data": {
      "image/png": "[encoded data removed]",
      "text/plain": [
       "<Figure size 800x500 with 1 Axes>"
      ]
     },
     "metadata": {},
     "output_type": "display_data"
    }
   ],
   "source": [
    "plt.figure(figsize=(8,5))\n",
    "plt.hist(samples_a, bins=20, alpha=0.5, label='Gaussian A (mean=0, var=1)')\n",
    "plt.hist(samples_b, bins=20, alpha=0.5, label='Gaussian B (mean=3, var=1)')\n",
    "plt.xlabel('Value')\n",
    "plt.ylabel('Frequency')\n",
    "plt.title('1D Dataset from Two Gaussian Distributions')\n",
    "plt.legend()\n",
    "plt.grid(True)\n",
    "plt.savefig(save_dirs[2] + \"two_gaussians.png\", dpi=300)\n",
    "plt.show()"
   ]
  },
  {
   "cell_type": "code",
   "execution_count": null,
   "id": "3ac7b912",
   "metadata": {},
   "outputs": [
    {
     "data": {
      "image/png": "[encoded data removed]",
      "text/plain": [
       "<Figure size 800x500 with 1 Axes>"
      ]
     },
     "metadata": {},
     "output_type": "display_data"
    }
   ],
   "source": [
    "plt.figure(figsize=(8,5))\n",
    "plt.hist(X, bins=20, label=\"X\", color='green', alpha=0.5)\n",
    "plt.title('Histogram of dataset')\n",
    "plt.xlabel('Value')\n",
    "plt.ylabel('Frequency')\n",
    "plt.legend()\n",
    "plt.grid(True)\n",
    "plt.savefig(save_dirs[2] + \"X_histogram.png\", dpi=300)\n",
    "plt.show()"
   ]
  },
  {
   "cell_type": "markdown",
   "id": "7fdd1266",
   "metadata": {},
   "source": [
    "#### K-means Clustering\n",
    "\n",
    "K-means clustering is an algorithm that partitions data into $k$ clusters by minimizing the sum of squared distances between data points and their assigned cluster centers. The objective function being minimized is:\n",
    "\n",
    "$$\n",
    "\\min_{c_1, c_2, \\ldots, c_k} \\sum_{i=1}^{n} \\min_{j \\in \\{1, 2, \\ldots, k\\}} ||x_i - c_j||^2\n",
    "$$\n",
    "\n",
    "For our case with $k = 2$, we're minimizing:\n",
    "\n",
    "$$\n",
    "\\min_{c_1, c_2} \\sum_{i=1}^{n} \\min_{j \\in \\{1, 2\\}} ||x_i - c_j||^2\n",
    "$$\n",
    "\n",
    "Where:\n",
    "- $x_i$ is the $i$-th data point\n",
    "- $c_j$ is the center of the $j$-th cluster\n",
    "- $||x_i - c_j||^2$ is the squared Euclidean distance"
   ]
  },
  {
   "cell_type": "code",
   "execution_count": null,
   "id": "8dbca90d",
   "metadata": {},
   "outputs": [],
   "source": [
    "# Q3.1. K-means clustering\n",
    "kmeans = KMeans(n_clusters=2, random_state=seed)\n",
    "kmeans.fit(X)\n",
    "kmeans_centers = kmeans.cluster_centers_\n",
    "y_pred_kmeans = kmeans.labels_\n",
    "\n",
    "if kmeans_centers[0] > kmeans_centers[1]:\n",
    "    kmeans_centers = kmeans_centers[::-1]\n",
    "    y_pred_kmeans = 1 - y_pred_kmeans"
   ]
  },
  {
   "cell_type": "code",
   "execution_count": null,
   "id": "a56a3d20",
   "metadata": {},
   "outputs": [
    {
     "name": "stdout",
     "output_type": "stream",
     "text": [
      "K-means clustering centers: [-0.2329076   2.92996462]\n",
      "True centers: [0, 3]\n",
      "Fraction of points correctly classified: 0.95\n",
      "Accuracy: 95.50%\n"
     ]
    },
    {
     "data": {
      "image/png": "[encoded data removed]",
      "text/plain": [
       "<Figure size 1000x600 with 1 Axes>"
      ]
     },
     "metadata": {},
     "output_type": "display_data"
    }
   ],
   "source": [
    "kmeans_accuracy = np.sum(y == y_pred_kmeans) / len(y)\n",
    "print(f\"K-means clustering centers: {np.sort(kmeans_centers.flatten())}\")\n",
    "print(f\"True centers: [0, 3]\")\n",
    "print(f\"Fraction of points correctly classified: {kmeans_accuracy:.2f}\")\n",
    "print(f\"Accuracy: {kmeans_accuracy*100:.2f}%\")\n",
    "\n",
    "plt.figure(figsize=(10, 6))\n",
    "plt.scatter(X[y_pred_kmeans == 0], np.zeros_like(X[y_pred_kmeans == 0]), c='purple', marker='o', label='Cluster A')\n",
    "plt.scatter(X[y_pred_kmeans == 1], np.zeros_like(X[y_pred_kmeans == 1]), c='yellow', marker='o', label='Cluster B')\n",
    "plt.scatter(kmeans_centers, np.zeros_like(kmeans_centers), c='red', marker='X', s=150, label='Cluster centers')\n",
    "plt.title('K-means Clustering Results')\n",
    "plt.xlabel('Value')\n",
    "plt.legend()\n",
    "plt.grid(True)\n",
    "plt.savefig(save_dirs[2] + \"kmeans_clustering.png\", dpi=300)\n",
    "plt.show()"
   ]
  },
  {
   "cell_type": "markdown",
   "id": "0fb00797",
   "metadata": {},
   "source": [
    "#### K-median Clustering (Exhaustive Search)\n",
    "\n",
    "Unlike k-means, k-median clustering minimizes the sum of absolute distances (Manhattan/L1 distance) rather than squared distances:\n",
    "\n",
    "$$\n",
    "\\min_{c_1, c_2, \\ldots, c_k} \\sum_{i=1}^{n} \\min_{j \\in \\{1, 2, \\ldots, k\\}} |x_i - c_j|\n",
    "$$\n",
    "\n",
    "For our 1D data with $k = 2$, we perform an exhaustive search by:\n",
    "1. Sorting the 200 data points\n",
    "2. Testing every possible split point $s$ (putting $s$ points in the first cluster and $200-s$ in the second)\n",
    "3. Computing cluster centers as the median of points in each cluster\n",
    "4. Calculating the objective function value for each split\n",
    "5. Selecting the split that minimizes the total distance\n"
   ]
  },
  {
   "cell_type": "code",
   "execution_count": null,
   "id": "0f54d841",
   "metadata": {},
   "outputs": [
    {
     "name": "stderr",
     "output_type": "stream",
     "text": [
      "Searching for best k-median split: 100%|████████████████████████| 199/199 [00:00<00:00, 5520.61it/s]"
     ]
    },
    {
     "name": "stdout",
     "output_type": "stream",
     "text": [
      "\n",
      "Best k-median clustering centers: [-0.21967189  3.05820872]\n",
      "True centers: [0, 3]\n",
      "Best k-median clustering split: 95\n",
      "Best k-median clustering cost: 144.42\n"
     ]
    },
    {
     "name": "stderr",
     "output_type": "stream",
     "text": [
      "\n"
     ]
    }
   ],
   "source": [
    "# Calculate the k-median objective for a given clustering\n",
    "def k_median_split(X, s):\n",
    "    X_sorted = np.sort(X.flatten())\n",
    "    cluster_a = X_sorted[:s]\n",
    "    cluster_b = X_sorted[s:]\n",
    "    center_a = np.median(cluster_a)\n",
    "    center_b = np.median(cluster_b)\n",
    "    if center_a > center_b:\n",
    "        center_a, center_b = center_b, center_a\n",
    "        cluster_a, cluster_b = cluster_b, cluster_a\n",
    "    cost = np.sum(np.abs(cluster_a - center_a)) + np.sum(np.abs(cluster_b - center_b))\n",
    "    return cost, np.array([center_a, center_b]).flatten(), (cluster_a, cluster_b)\n",
    "\n",
    "# Perform exhaustive search over all possible 2-clusterings\n",
    "n = len(X)\n",
    "kmedians_cost = float('inf')\n",
    "kmedians_centers = None\n",
    "best_split = None\n",
    "\n",
    "for s in tqdm(range(1, n), desc=\"Searching for best k-median split\", ncols=100):\n",
    "    cost, centers, clusters = k_median_split(X, s)\n",
    "    if cost < kmedians_cost:\n",
    "        kmedians_cost = cost\n",
    "        best_split = s\n",
    "        kmedians_centers = centers\n",
    "\n",
    "print(f\"\\nBest k-median clustering centers: {np.sort(kmedians_centers)}\")\n",
    "print(f\"True centers: [0, 3]\")\n",
    "print(f\"Best k-median clustering split: {best_split}\")\n",
    "print(f\"Best k-median clustering cost: {kmedians_cost:.2f}\")"
   ]
  },
  {
   "cell_type": "code",
   "execution_count": null,
   "id": "c9e8da27",
   "metadata": {},
   "outputs": [
    {
     "name": "stdout",
     "output_type": "stream",
     "text": [
      "Fraction of points correctly classified: 0.97\n",
      "Accuracy: 97.50%\n"
     ]
    },
    {
     "data": {
      "image/png": "[encoded data removed]",
      "text/plain": [
       "<Figure size 1000x600 with 1 Axes>"
      ]
     },
     "metadata": {},
     "output_type": "display_data"
    }
   ],
   "source": [
    "y_pred_kmedians = np.zeros(n, dtype=int)\n",
    "y_pred_kmedians[:best_split] = 0\n",
    "y_pred_kmedians[best_split:] = 1\n",
    "kmedians_accuracy = np.sum(y == y_pred_kmedians) / len(y)\n",
    "print(f\"Fraction of points correctly classified: {kmedians_accuracy:.2f}\")\n",
    "print(f\"Accuracy: {kmedians_accuracy*100:.2f}%\")\n",
    "\n",
    "X_sorted = np.sort(X.flatten())\n",
    "plt.figure(figsize=(10, 6))\n",
    "plt.scatter(X_sorted[y_pred_kmedians == 0], np.zeros_like(X_sorted[y_pred_kmedians == 0]), c='purple', marker='o', s=20, label='Cluster A')\n",
    "plt.scatter(X_sorted[y_pred_kmedians == 1], np.zeros_like(X_sorted[y_pred_kmedians == 1]), c='yellow', marker='o', s=20, label='Cluster B')\n",
    "plt.scatter(kmedians_centers, np.zeros_like(kmedians_centers), c='red', marker='X', s=150, label='Cluster centers')\n",
    "plt.title('K-median Clustering Results')\n",
    "plt.xlabel('Value')\n",
    "plt.legend()\n",
    "plt.grid(True)\n",
    "plt.savefig(save_dirs[2] + \"kmedian_clustering.png\", dpi=300)\n",
    "plt.show()"
   ]
  },
  {
   "cell_type": "code",
   "execution_count": null,
   "id": "76f2b70b",
   "metadata": {},
   "outputs": [
    {
     "name": "stdout",
     "output_type": "stream",
     "text": [
      "\n",
      "Comparison of K-means and K-median:\n",
      "\n",
      "K-means centers: [-0.2329076   2.92996462]\n",
      "K-median centers: [-0.21967189  3.05820872]\n",
      "True centers: [0, 3]\n",
      "\n",
      "K-means accuracy: 95.50%\n",
      "K-median accuracy: 97.50%\n",
      "\n",
      "K-means cost (squared distance): 162.60\n",
      "K-median cost (absolute distance): 144.42\n",
      "\n",
      "Better clustering method: K-median\n"
     ]
    }
   ],
   "source": [
    "print(\"Comparison of K-means and K-median:\")\n",
    "\n",
    "print(f\"\\nK-means centers: {np.sort(kmeans_centers.flatten())}\")\n",
    "print(f\"K-median centers: {np.sort(kmedians_centers.flatten())}\")\n",
    "print(f\"True centers: [0, 3]\")\n",
    "\n",
    "print(f\"\\nK-means accuracy: {kmeans_accuracy*100:.2f}%\")\n",
    "print(f\"K-median accuracy: {kmedians_accuracy*100:.2f}%\")\n",
    "\n",
    "print(f\"\\nK-means cost (squared distance): {kmeans.inertia_:.2f}\")\n",
    "print(f\"K-median cost (absolute distance): {kmedians_cost:.2f}\")\n",
    "\n",
    "print(\"\\nBetter clustering method:\", end=\" \")\n",
    "if kmeans.inertia_ < kmedians_cost:\n",
    "    print(\"K-means\")\n",
    "else:\n",
    "    print(\"K-median\")"
   ]
  },
  {
   "cell_type": "code",
   "execution_count": null,
   "id": "f53d7f01",
   "metadata": {},
   "outputs": [
    {
     "data": {
      "image/png": "[encoded data removed]",
      "text/plain": [
       "<Figure size 1000x500 with 1 Axes>"
      ]
     },
     "metadata": {},
     "output_type": "display_data"
    }
   ],
   "source": [
    "plt.figure(figsize=(10, 5))\n",
    "# Plot the original dataset (shifted to y = 2)\n",
    "pos = 2\n",
    "plt.scatter(samples_a, np.full_like(samples_a, pos), c='purple', marker='o')\n",
    "plt.scatter(samples_b, np.full_like(samples_b, pos), c='yellow', marker='o')\n",
    "plt.scatter([0, 3], np.full_like([0, 3], pos), c='red', marker='X', s=150)\n",
    "# Plot K-means clustering (shifted to y = 1)\n",
    "pos = 1\n",
    "plt.scatter(X[y_pred_kmeans==0], np.full_like(X[y_pred_kmeans==0], pos), c='purple', marker='o')\n",
    "plt.scatter(X[y_pred_kmeans==1], np.full_like(X[y_pred_kmeans==1], pos), c='yellow', marker='o')\n",
    "plt.scatter(kmeans_centers, np.full_like(kmeans_centers, pos), c='red', marker='X', s=150)\n",
    "# Plot K-median clustering (shifted to y = 0)\n",
    "pos = 0\n",
    "X_sorted = np.sort(X.flatten())\n",
    "plt.scatter(X_sorted[y_pred_kmedians==0], np.full_like(X_sorted[y_pred_kmedians==0], pos), c='purple', marker='o', s=20, label='Cluster A')\n",
    "plt.scatter(X_sorted[y_pred_kmedians==1], np.full_like(X_sorted[y_pred_kmedians==1], pos), c='yellow', marker='o', s=20, label='Cluster B')\n",
    "plt.scatter(kmedians_centers, np.full_like(kmedians_centers, pos), c='red', marker='X', s=150, label='Centers')\n",
    "plt.title('K-means, K-median, and Original Dataset Results')\n",
    "plt.xlabel('Value')\n",
    "plt.yticks([2, 1, 0], ['Original Dataset', 'K-means Clustering', 'K-median Clustering'])\n",
    "plt.grid(True)\n",
    "plt.tight_layout()\n",
    "plt.legend(loc='upper right')\n",
    "plt.savefig(save_dirs[2] + \"combined_results.png\", dpi=300)\n",
    "plt.show()"
   ]
  },
  {
   "cell_type": "markdown",
   "id": "86b07b60",
   "metadata": {},
   "source": [
    "### Results and Observations:\n",
    "\n",
    "1. **Comparison of K-means and K-median Clustering:**\n",
    "    - **K-means Centers:** [-0.2329076   2.92996462]\n",
    "    - **K-median Centers:** [-0.21967189  3.05820872]\n",
    "    - **True Centers:** [0, 3]\n",
    "\n",
    "2. **Accuracy:**\n",
    "    - **K-means Accuracy:** 95.50%\n",
    "    - **K-median Accuracy:** 97.50%\n",
    "\n",
    "4. **Conclusion:**\n",
    "    - K-median clustering performed better than K-means clustering in this scenario. It achieved perfect accuracy and lower cost, as it is less sensitive to outliers and better suited for datasets where the median is a more representative measure than the mean."
   ]
  },
  {
   "cell_type": "markdown",
   "id": "f734154d",
   "metadata": {},
   "source": [
    "## Question 4\n",
    "\n",
    "Q4. Consider the following dataset and query set:\n",
    "   - Generate a corpus of 1 million random strings, each of length 100\n",
    "   - Create a query set of size 5,000 where:\n",
    "     - 50% (2,500) are randomly selected from the corpus\n",
    "     - 50% (2,500) are new random strings not in the corpus\n",
    "\n",
    "Implement a Bloom filter ($m$ bits, $k$ hash functions) for answering whether each of the queries are present in the data. For the $k$ hash functions, use MD5 with $k$ different seeds and then do a $\\mod(\\cdot)$ to get a number in $[0,m)$.\n",
    "\n",
    "Fix the size of the Bloom filter to $m=1024$ bits. Do different implementations, one for each $k\\in\\{2,4,6,8,10,12\\}$. Plot $k$ (number of hash functions) vs false positive rate. Determine the optimal $k$ for your dataset. Find out the optimal $k$ for your dataset and calculate the empirical false positive rate for that too."
   ]
  },
  {
   "cell_type": "markdown",
   "id": "034eb38e",
   "metadata": {},
   "source": [
    "#### Solution:"
   ]
  },
  {
   "cell_type": "code",
   "execution_count": null,
   "id": "e99303bd",
   "metadata": {},
   "outputs": [],
   "source": [
    "class BloomFilter:\n",
    "    def __init__(self, m, k):\n",
    "        self.m = m  # size of the bloom filter in bits\n",
    "        self.k = k  # number of hash functions\n",
    "        self.bit_array = np.zeros(m, dtype=bool)  # bit array to store the bloom filter\n",
    "    \n",
    "    def _hash(self, item, seed):\n",
    "        # use md5 hash function with different seeds\n",
    "        hash_object = hashlib.md5((item + str(seed)).encode())\n",
    "        hash_value = int(hash_object.hexdigest(), 16) % self.m\n",
    "        return hash_value\n",
    "    \n",
    "    def insert(self, item):\n",
    "        # insert an item into the bloom filter\n",
    "        for i in range(self.k):\n",
    "            hash_value = self._hash(item, i)\n",
    "            self.bit_array[hash_value] = True\n",
    "    \n",
    "    def query(self, item):\n",
    "        # query an item in the bloom filter\n",
    "        for i in range(self.k):\n",
    "            hash_value = self._hash(item, i)\n",
    "            if not self.bit_array[hash_value]:\n",
    "                return False\n",
    "        return True\n",
    "\n",
    "def theoretical_fp_rate(m, n, k):\n",
    "    # calculate the theoretical false positive rate\n",
    "    return (1 - np.exp(-k*n/m))**k\n",
    "\n",
    "def theoretical_optimal_k(m, n):\n",
    "    # calculate the theoretical optimal k\n",
    "    return int((m/n) * np.log(2))\n",
    "\n",
    "def m_for_fp_rate(fp_rate, n):\n",
    "    # calculate the size of the bloom filter for a given false positive rate\n",
    "    return int(np.ceil(-n * np.log(fp_rate) / (np.log(2)**2)))\n"
   ]
  },
  {
   "cell_type": "code",
   "execution_count": null,
   "id": "2102e284",
   "metadata": {},
   "outputs": [
    {
     "name": "stdout",
     "output_type": "stream",
     "text": [
      "Value of m for required false positive rate: 6235225\n",
      "Run file: ./assets/assignment2/Q4/runs/bloom_run_20250404_095308.txt\n"
     ]
    }
   ],
   "source": [
    "corpus_size = 1000000\n",
    "query_size = 5000\n",
    "string_length = 100\n",
    "required_fp_rate = 0.05\n",
    "m = m_for_fp_rate(required_fp_rate, corpus_size)\n",
    "print(\"Value of m for required false positive rate:\", m)        # size of bloom filter\n",
    "# m=1024\n",
    "k_values = [2, 4, 6, 8, 10, 12]          # number of hash functions\n",
    "\n",
    "run_dir = save_dirs[3] + \"runs/\"\n",
    "if not os.path.exists(run_dir):\n",
    "    os.makedirs(run_dir)\n",
    "run_file = run_dir + \"bloom_run_\" + datetime.datetime.now().strftime(\"%Y%m%d_%H%M%S\") + \".txt\"\n",
    "print(\"Run file:\", run_file)"
   ]
  },
  {
   "cell_type": "code",
   "execution_count": null,
   "id": "72cfd633",
   "metadata": {},
   "outputs": [],
   "source": [
    "create_corpus = True\n",
    "run_bloom = True"
   ]
  },
  {
   "cell_type": "code",
   "execution_count": null,
   "id": "938a9bda",
   "metadata": {},
   "outputs": [
    {
     "name": "stdout",
     "output_type": "stream",
     "text": [
      "Loading corpus...\n"
     ]
    },
    {
     "name": "stdout",
     "output_type": "stream",
     "text": [
      "Loading query set...\n",
      "Corpus and query set loaded successfully.\n"
     ]
    }
   ],
   "source": [
    "def generate_random_string(length=100):\n",
    "    letters = string.ascii_letters + string.digits\n",
    "    return ''.join(random.choice(letters) for i in range(length))\n",
    "\n",
    "if create_corpus:\n",
    "    # create a corpus of 1 million random strings, each of length 100\n",
    "    print(\"Generating corpus...\")\n",
    "    corpus = [generate_random_string(string_length) for _ in tqdm(range(corpus_size))]\n",
    "    corpus_set = set(corpus)\n",
    "    with open(save_dirs[3] + \"corpus.txt\", \"w\") as f:\n",
    "        f.write(\"\\n\".join(corpus))\n",
    "    \n",
    "    # create a query set of size 5,000 where:\n",
    "    # 50% (2,500) are randomly selected from the corpus\n",
    "    # 50% (2,500) are new random strings not in the corpus\n",
    "    print(\"Generating query set...\")\n",
    "    positive_queries = random.sample(corpus, query_size//2)\n",
    "    negative_queries = []\n",
    "    while len(negative_queries) < query_size//2:\n",
    "        new_query = generate_random_string(string_length)\n",
    "        if new_query not in corpus_set:\n",
    "            negative_queries.append(new_query)\n",
    "    query_set = positive_queries + negative_queries\n",
    "    random.shuffle(query_set)\n",
    "    with open(save_dirs[3] + \"queries.txt\", \"w\") as f:\n",
    "        f.write(\"\\n\".join(query_set))\n",
    "    with open(save_dirs[3] + \"positive_queries.txt\", \"w\") as f:\n",
    "        f.write(\"\\n\".join(positive_queries))\n",
    "    with open(save_dirs[3] + \"negative_queries.txt\", \"w\") as f:\n",
    "        f.write(\"\\n\".join(negative_queries))\n",
    "\n",
    "else:\n",
    "    print(\"Loading corpus...\")\n",
    "    with open(save_dirs[3] + \"corpus.txt\", \"r\") as f:\n",
    "        corpus = f.read().splitlines()\n",
    "    corpus_set = set(corpus)\n",
    "    print(\"Loading query set...\")\n",
    "    with open(save_dirs[3] + \"queries.txt\", \"r\") as f:\n",
    "        query_set = f.read().splitlines()\n",
    "    with open(save_dirs[3] + \"positive_queries.txt\", \"r\") as f:\n",
    "        positive_queries = f.read().splitlines()\n",
    "    with open(save_dirs[3] + \"negative_queries.txt\", \"r\") as f:\n",
    "        negative_queries = f.read().splitlines()\n",
    "    print(\"Corpus and query set loaded successfully.\")"
   ]
  },
  {
   "cell_type": "code",
   "execution_count": null,
   "id": "7620ed5e",
   "metadata": {},
   "outputs": [
    {
     "name": "stdout",
     "output_type": "stream",
     "text": [
      "Running Bloom filter with k=2...\n"
     ]
    },
    {
     "name": "stderr",
     "output_type": "stream",
     "text": [
      "100%|██████████| 1000000/1000000 [00:12<00:00, 79888.68it/s]\n"
     ]
    },
    {
     "name": "stdout",
     "output_type": "stream",
     "text": [
      "Querying Bloom filter...\n"
     ]
    },
    {
     "name": "stderr",
     "output_type": "stream",
     "text": [
      "100%|██████████| 5000/5000 [00:00<00:00, 17851.11it/s]\n"
     ]
    },
    {
     "name": "stdout",
     "output_type": "stream",
     "text": [
      "Confusion Matrix for k=2:\n",
      "    True Positives: 2500, False Positives: 223\n",
      "    True Negatives: 2277, False Negatives: 0\n",
      "False Positive Rate for k=2: 0.0892\n",
      "\n",
      "Running Bloom filter with k=4...\n"
     ]
    },
    {
     "name": "stderr",
     "output_type": "stream",
     "text": [
      "100%|██████████| 1000000/1000000 [00:21<00:00, 45675.89it/s]\n"
     ]
    },
    {
     "name": "stdout",
     "output_type": "stream",
     "text": [
      "Querying Bloom filter...\n"
     ]
    },
    {
     "name": "stderr",
     "output_type": "stream",
     "text": [
      "100%|██████████| 5000/5000 [00:00<00:00, 7519.99it/s]\n"
     ]
    },
    {
     "name": "stdout",
     "output_type": "stream",
     "text": [
      "Confusion Matrix for k=4:\n",
      "    True Positives: 2500, False Positives: 126\n",
      "    True Negatives: 2374, False Negatives: 0\n",
      "False Positive Rate for k=4: 0.0504\n",
      "\n",
      "Running Bloom filter with k=6...\n"
     ]
    },
    {
     "name": "stderr",
     "output_type": "stream",
     "text": [
      "100%|██████████| 1000000/1000000 [00:40<00:00, 24707.99it/s]\n"
     ]
    },
    {
     "name": "stdout",
     "output_type": "stream",
     "text": [
      "Querying Bloom filter...\n"
     ]
    },
    {
     "name": "stderr",
     "output_type": "stream",
     "text": [
      "100%|██████████| 5000/5000 [00:00<00:00, 18502.54it/s]\n"
     ]
    },
    {
     "name": "stdout",
     "output_type": "stream",
     "text": [
      "Confusion Matrix for k=6:\n",
      "    True Positives: 2500, False Positives: 138\n",
      "    True Negatives: 2362, False Negatives: 0\n",
      "False Positive Rate for k=6: 0.0552\n",
      "\n",
      "Running Bloom filter with k=8...\n"
     ]
    },
    {
     "name": "stderr",
     "output_type": "stream",
     "text": [
      "100%|██████████| 1000000/1000000 [00:30<00:00, 33117.11it/s]\n"
     ]
    },
    {
     "name": "stdout",
     "output_type": "stream",
     "text": [
      "Querying Bloom filter...\n"
     ]
    },
    {
     "name": "stderr",
     "output_type": "stream",
     "text": [
      "100%|██████████| 5000/5000 [00:00<00:00, 15468.26it/s]\n"
     ]
    },
    {
     "name": "stdout",
     "output_type": "stream",
     "text": [
      "Confusion Matrix for k=8:\n",
      "    True Positives: 2500, False Positives: 196\n",
      "    True Negatives: 2304, False Negatives: 0\n",
      "False Positive Rate for k=8: 0.0784\n",
      "\n",
      "Running Bloom filter with k=10...\n"
     ]
    },
    {
     "name": "stderr",
     "output_type": "stream",
     "text": [
      "100%|██████████| 1000000/1000000 [01:08<00:00, 14561.64it/s]\n"
     ]
    },
    {
     "name": "stdout",
     "output_type": "stream",
     "text": [
      "Querying Bloom filter...\n"
     ]
    },
    {
     "name": "stderr",
     "output_type": "stream",
     "text": [
      "100%|██████████| 5000/5000 [00:01<00:00, 3654.80it/s]\n"
     ]
    },
    {
     "name": "stdout",
     "output_type": "stream",
     "text": [
      "Confusion Matrix for k=10:\n",
      "    True Positives: 2500, False Positives: 286\n",
      "    True Negatives: 2214, False Negatives: 0\n",
      "False Positive Rate for k=10: 0.1144\n",
      "\n",
      "Running Bloom filter with k=12...\n"
     ]
    },
    {
     "name": "stderr",
     "output_type": "stream",
     "text": [
      "100%|██████████| 1000000/1000000 [00:59<00:00, 16743.43it/s]\n"
     ]
    },
    {
     "name": "stdout",
     "output_type": "stream",
     "text": [
      "Querying Bloom filter...\n"
     ]
    },
    {
     "name": "stderr",
     "output_type": "stream",
     "text": [
      "100%|██████████| 5000/5000 [00:00<00:00, 12800.42it/s]"
     ]
    },
    {
     "name": "stdout",
     "output_type": "stream",
     "text": [
      "Confusion Matrix for k=12:\n",
      "    True Positives: 2500, False Positives: 363\n",
      "    True Negatives: 2137, False Negatives: 0\n",
      "False Positive Rate for k=12: 0.1452\n",
      "\n"
     ]
    },
    {
     "name": "stderr",
     "output_type": "stream",
     "text": [
      "\n"
     ]
    }
   ],
   "source": [
    "if run_bloom:\n",
    "    with open(run_file, \"w\") as f:\n",
    "        f.write(f\"Corpus size: {corpus_size}\\n\")\n",
    "        f.write(f\"Query size: {query_size}\\n\")\n",
    "        f.write(f\"String length: {string_length}\\n\")\n",
    "        f.write(f\"Bloom filter size (m): {m}\\n\")\n",
    "        f.write(f\"Hash functions (k): {k_values}\\n\")\n",
    "        \n",
    "    fp_rate_results = []\n",
    "    for k in k_values:\n",
    "        print(f\"Running Bloom filter with k={k}...\")\n",
    "        # create a bloom filter with m bits and k hash functions\n",
    "        bloom_filter = BloomFilter(m, k)\n",
    "        true_positives = 0\n",
    "        false_positives = 0\n",
    "        true_negatives = 0\n",
    "        false_negatives = 0\n",
    "    \n",
    "        # insert all items in the corpus into the bloom filter\n",
    "        for item in tqdm(corpus):\n",
    "            bloom_filter.insert(item)\n",
    "        \n",
    "        # query the bloom filter with the query set\n",
    "        print(\"Querying Bloom filter...\")\n",
    "        for item in tqdm(query_set):\n",
    "            if item in positive_queries:\n",
    "                if bloom_filter.query(item):\n",
    "                    true_positives += 1\n",
    "                else:\n",
    "                    false_negatives += 1\n",
    "            else:\n",
    "                if bloom_filter.query(item):\n",
    "                    false_positives += 1\n",
    "                else:\n",
    "                    true_negatives += 1\n",
    "\n",
    "        # confusion matrix\n",
    "        print(f\"Confusion Matrix for k={k}:\")\n",
    "        print(f\"    True Positives: {true_positives}, False Positives: {false_positives}\")\n",
    "        print(f\"    True Negatives: {true_negatives}, False Negatives: {false_negatives}\")\n",
    "        # calculate false positive rate\n",
    "        false_positive_rate = false_positives / (query_size//2)\n",
    "        print(f\"False Positive Rate for k={k}: {false_positive_rate:.4f}\\n\")\n",
    "        fp_rate_results.append((k, false_positive_rate))\n",
    "        \n",
    "        # save the results\n",
    "        with open(run_file, \"a\") as f:\n",
    "            f.write(f\"\\nRunning Bloom filter with k={k}...\\n\")\n",
    "            f.write(f\"Confusion Matrix for k={k}:\\n\")\n",
    "            f.write(f\"True Positives: {true_positives}, False Positives: {false_positives}\\n\")\n",
    "            f.write(f\"True Negatives: {true_negatives}, False Negatives: {false_negatives}\\n\")\n",
    "            f.write(f\"False Positive Rate for k={k}: {false_positive_rate:.4f}\\n\")\n",
    "    np.save(save_dirs[3] + \"fp_rate_results.npy\", fp_rate_results)\n",
    "\n",
    "else:\n",
    "    print(\"Loading Bloom filter results...\")\n",
    "    fp_rate_results = np.load(save_dirs[3] + \"fp_rate_results.npy\", allow_pickle=True).tolist()"
   ]
  },
  {
   "cell_type": "code",
   "execution_count": null,
   "id": "b9fa0671",
   "metadata": {},
   "outputs": [
    {
     "name": "stdout",
     "output_type": "stream",
     "text": [
      "Optimal k for the dataset: 4\n",
      "Optimal False Positive Rate for the dataset: 0.0504\n",
      "Theoretical optimal k: 4\n",
      "False positive rate for theoretical optimal k: 0.0503\n"
     ]
    },
    {
     "data": {
      "image/png": "[encoded data removed]",
      "text/plain": [
       "<Figure size 1000x600 with 1 Axes>"
      ]
     },
     "metadata": {},
     "output_type": "display_data"
    }
   ],
   "source": [
    "k_values, fp_rates = zip(*fp_rate_results)\n",
    "\n",
    "optimal_k = k_values[np.argmin(fp_rates)]\n",
    "optimal_fp_rate = min(fp_rates)\n",
    "print(f\"Optimal k for the dataset: {optimal_k}\")\n",
    "print(f\"Optimal False Positive Rate for the dataset: {optimal_fp_rate:.4f}\")\n",
    "\n",
    "theo_opt_k = theoretical_optimal_k(m, corpus_size)\n",
    "theo_rates = [theoretical_fp_rate(m, corpus_size, k) for k in k_values]\n",
    "theo_fp_rate = theoretical_fp_rate(m, corpus_size, theo_opt_k)\n",
    "print(f\"Theoretical optimal k: {theo_opt_k}\")\n",
    "print(f\"False positive rate for theoretical optimal k: {theo_fp_rate:.4f}\")\n",
    "\n",
    "# save the optimal k and false positive rate\n",
    "if run_bloom:\n",
    "    with open(run_file, \"a\") as f:\n",
    "        f.write(f\"\\nOptimal k for the dataset: {optimal_k}\\n\")\n",
    "        f.write(f\"Optimal False Positive Rate for the dataset: {optimal_fp_rate:.4f}\\n\")\n",
    "        f.write(f\"\\nTheoretical optimal k: {theo_opt_k}\\n\")\n",
    "        f.write(f\"False positive rate for theoretical optimal k: {theo_fp_rate:.4f}\\n\")\n",
    "\n",
    "\n",
    "# Plotting the results\n",
    "plt.figure(figsize=(10, 6))\n",
    "plt.plot(k_values, fp_rates, 'bo-', label='Experimental')\n",
    "plt.plot(k_values, theo_rates, 'ro--', label='Theoretical')\n",
    "\n",
    "# Mark optimal k\n",
    "# plt.axvline(x=opt_k, color='g', linestyle='--', label=f'Optimal k (theoretical) = {opt_k}')\n",
    "# Find experimental optimal k\n",
    "exp_opt_k = k_values[fp_rates.index(min(fp_rates))]\n",
    "plt.axvline(x=exp_opt_k, color='g', linestyle='--', label=f'Optimal k (experimental) = {exp_opt_k}')\n",
    "\n",
    "plt.title('False Positive Rate vs Number of Hash Functions')\n",
    "plt.xlabel('Number of Hash Functions (k)')\n",
    "plt.ylabel('False Positive Rate')\n",
    "plt.xticks(k_values)\n",
    "plt.grid(True)\n",
    "plt.legend()\n",
    "plt.savefig(save_dirs[3] + \"bloom_filter_fp_rate.png\", dpi=300)\n",
    "plt.show()\n"
   ]
  },
  {
   "cell_type": "markdown",
   "id": "ac8ee46d",
   "metadata": {},
   "source": []
  }
 ],
 "metadata": {
  "kernelspec": {
   "display_name": ".venv",
   "language": "python",
   "name": "python3"
  },
  "language_info": {
   "codemirror_mode": {
    "name": "ipython",
    "version": 3
   },
   "file_extension": ".py",
   "mimetype": "text/x-python",
   "name": "python",
   "nbconvert_exporter": "python",
   "pygments_lexer": "ipython3",
   "version": "3.12.9"
  }
 },
 "nbformat": 4,
 "nbformat_minor": 5
}
