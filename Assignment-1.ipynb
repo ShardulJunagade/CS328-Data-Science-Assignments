{
 "cells": [
  {
   "cell_type": "markdown",
   "metadata": {},
   "source": [
    "<div align=\"center\">\n",
    "\t<h1>CS 328: Introduction to Data Science</h1>\n",
    "\t<h2>Assignment 1</h2>\n",
    "\tShardul Junagade <br>\n",
    "\t23110297\n",
    "</div>"
   ]
  },
  {
   "cell_type": "markdown",
   "metadata": {},
   "source": [
    "### Importing Libraries"
   ]
  },
  {
   "cell_type": "code",
   "execution_count": null,
   "metadata": {},
   "outputs": [],
   "source": [
    "import numpy as np\n",
    "import matplotlib.pyplot as plt\n",
    "from sklearn.datasets import make_blobs\n",
    "from sklearn.metrics import rand_score\n",
    "from sklearn.cluster import AgglomerativeClustering\n",
    "from datasets import load_mnist\n"
   ]
  },
  {
   "cell_type": "code",
   "execution_count": null,
   "metadata": {},
   "outputs": [],
   "source": [
    "class Cluster:\n",
    "    def __init__(self, points):\n",
    "        \"\"\"Initialize a cluster with a list of points.\"\"\"\n",
    "        self.points = np.array(points)\n",
    "        self.size = len(points)\n",
    "        self.mean = self.compute_mean()\n",
    "    \n",
    "    def compute_mean(self):\n",
    "        \"\"\"Compute the mean of the cluster.\"\"\"\n",
    "        self.mean = np.mean(self.points, axis=0) if self.size > 0 else np.zeros(self.points.shape[1])\n",
    "        return self.mean"
   ]
  },
  {
   "cell_type": "markdown",
   "metadata": {},
   "source": [
    "## Question 1\n",
    "\n",
    "Q1. Suppose you define a clustering objective in the following manner – given a partitioning $\\mathbb{C} = \\{C_1, \\ldots, C_k\\}$, define\n",
    "\n",
    "$$\n",
    "\\text{cost}(\\mathbb{C}) = \\sum_{i=1}^{k} \\frac{1}{|C_i|} \\sum_{x, y \\in C_i} \\|x - y\\|_2^2\n",
    "$$\n",
    "\n",
    "<div style=\"margin-left: 30px;\">i.e., the cost of a cluster is the sum of all pairwise squared distances. Give an algorithm for this.</div>"
   ]
  },
  {
   "cell_type": "markdown",
   "metadata": {},
   "source": [
    "### **Solution:**"
   ]
  },
  {
   "cell_type": "markdown",
   "metadata": {},
   "source": [
    "To solve this problem, we need to design an algorithm that minimizes the given cost function for clustering. The cost function is defined as:\n",
    "\n",
    "$$\n",
    "\\text{cost}(\\mathbb{C}) = \\sum_{i=1}^{k} \\frac{1}{|C_i|} \\sum_{x, y \\in C_i} \\|x - y\\|_2^2\n",
    "$$\n",
    "\n",
    "This cost function penalizes clusters with large pairwise squared distances between points within the same cluster. Our goal is to minimize this cost by appropriately partitioning the data into $k$ clusters.\n",
    "\n",
    "\n",
    "We can rewrite the cost function in terms of the mean of the clusters. Let $\\mu_i$ be the mean of cluster $C_i$. The pairwise squared distance can be expressed as follows:\n",
    "\n",
    "Expanding the paired distance:\n",
    "$$\n",
    "\\|x - y\\|_2^2 = \\|x - \\mu_i + \\mu_i - y\\|_2^2 = \\|x - \\mu_i\\|_2^2 + \\|\\mu_i - y\\|_2^2 + 2(x - \\mu_i) \\cdot (\\mu_i - y)\n",
    "$$\n",
    "\n",
    "Expanding the sum over $x$ and $y$ in cluster $C_i$, we get:\n",
    "$$\n",
    "\\sum_{x, y \\in C_i} \\|x - y\\|_2^2 = \\sum_{x, y \\in C_i} \\|x - \\mu_i\\|_2^2 + \\sum_{x, y \\in C_i} \\|\\mu_i - y\\|_2^2 + 2 \\sum_{x, y \\in C_i} (x - \\mu_i) \\cdot (\\mu_i - y)\n",
    "$$\n",
    "\n",
    "Since the dot product is symmetric, we have:\n",
    "$$\n",
    "\\begin{align*}\n",
    "\\sum_{x, y \\in C_i} (x - \\mu_i) \\cdot (\\mu_i - y) &= \\sum_{x, y \\in C_i} (x \\cdot \\mu_i - x \\cdot y - \\mu_i \\cdot \\mu_i + \\mu_i \\cdot y) \\\\\n",
    "&= |C_i|^2 \\cdot \\mu_i^2 - |C_i|^2 \\cdot \\mu_i^2 - |C_i|^2 \\cdot \\mu_i^2 + |C_i|^2 \\cdot \\mu_i^2 \\\\\n",
    "&= 0\n",
    "\\end{align*}\n",
    "$$\n",
    "\n",
    "Since both sums are equal, we can write:\n",
    "$$\n",
    "\\sum_{x, y \\in C_i} \\|x - y\\|_2^2 = 2 \\sum_{x, y \\in C_i} \\|x - \\mu_i\\|_2^2 = 2 \\cdot |C_i| \\sum_{x \\in C_i} \\|x - \\mu_i\\|_2^2\n",
    "$$\n",
    "\n",
    "Substituting this back into the cost function, we get:\n",
    "$$\n",
    "\\text{cost}(\\mathbb{C}) = \\sum_{i=1}^{k} \\frac{1}{|C_i|} \\cdot 2 \\cdot |C_i| \\sum_{x \\in C_i} \\|x - \\mu_i\\|_2^2 \n",
    "$$\n",
    "$$\n",
    "\\text{cost}(\\mathbb{C}) = 2 \\sum_{i=1}^{k} \\sum_{x \\in C_i} \\|x - \\mu_i\\|_2^2\n",
    "$$\n",
    "\n",
    "Thus, minimizing the original cost is equivalent to minimizing the sum of the squared distances between each point and the mean of its cluster. This is the same as the objective function of the k-means algorithm. Therefore, we can use the k-means algorithm to minimize the given cost function for clustering."
   ]
  },
  {
   "cell_type": "markdown",
   "metadata": {},
   "source": [
    "### Computing the Cost Function:\n",
    "\n",
    "The cost function can be computed as follows:\n",
    "1. Initialize the cost to zero.\n",
    "2. For each cluster $C_i$:\n",
    "\t- Compute the mean $\\mu_i$ of the cluster.\n",
    "\t- For each point $x$ in the cluster:\n",
    "\t\t- Compute the squared distance $\\|x - \\mu_i\\|_2^2$.\n",
    "\t\t- Multiply this value by 2 and add it to the cost (for the given cost function).\n",
    "3. Return the total cost."
   ]
  },
  {
   "cell_type": "markdown",
   "metadata": {},
   "source": [
    "### k-Means Clustering using Lloyd's Algorithm:\n",
    "\n",
    "**Input:** Data points $x_1, x_2, \\ldots, x_n$, number of clusters $k$.\n",
    "\n",
    "1. **Initialization**: Randomly initialize $k$ cluster centers $\\mu_1, \\mu_2, \\ldots, \\mu_k$ from the data points.\n",
    "\n",
    "2. **Assignment Step**: For each data point $x$, assign it to the cluster $C_i$ whose center $\\mu_i$ minimizes the squared Euclidean distance:\n",
    "     $$\n",
    "     \\|x - \\mu_i\\|_2^2\n",
    "     $$\n",
    "\n",
    "3. **Update Step**: For each cluster $C_i$, update the cluster center $\\mu_i$ to be the mean of all points in $C_i$:\n",
    "     $$\n",
    "     \\mu_i = \\frac{1}{|C_i|} \\sum_{x \\in C_i} x\n",
    "     $$\n",
    "\n",
    "4. **Cost Calculation**:\n",
    "   - After each iteration, compute the cost function:\n",
    "     $$\n",
    "     \\text{cost}(\\mathbb{C}) = \\sum_{i=1}^{k} \\sum_{x_j \\in C_i} \\left\\| x_j - \\mu_i \\right\\|^2\n",
    "     $$\n",
    "   - If the cost does not decrease significantly (below a threshold), stop the algorithm. Otherwise, repeat steps 2–4.\n",
    "\n",
    "**Output:** The final clustering $\\mathbb{C} = \\{C_1, \\ldots, C_k\\}$.\n",
    "\n",
    "This algorithm ensures that the given cost function (intra-cluster sum of squared distances) is minimized.\n",
    "\n",
    "Here is a Python implementation of Lloyd's algorithm for k-means clustering:\n"
   ]
  },
  {
   "cell_type": "code",
   "execution_count": 40,
   "metadata": {},
   "outputs": [],
   "source": [
    "class KMeansClustering:\n",
    "    def __init__(self, X, k):\n",
    "        self.X = X\n",
    "        self.k = k\n",
    "        self.centroids = None\n",
    "        self.clusters = None\n",
    "        self.labels = None\n",
    "\n",
    "    def _initialize_centroids(self, init_method='random'):\n",
    "        \"\"\"Initialize the centroids of the clusters.\"\"\"\n",
    "        n, d = self.X.shape\n",
    "        if init_method == 'random':\n",
    "            self.centroids = self.X[np.random.choice(n, self.k, replace=False)]\n",
    "        elif init_method == 'kmeans++':\n",
    "            # Initialize centroids using kmeans++ method\n",
    "            self.centroids = [self.X[np.random.choice(n)]]\n",
    "            while len(self.centroids) < self.k:\n",
    "                dist_sq = np.min(np.linalg.norm(self.X[:, np.newaxis] - np.array(self.centroids), axis=2)**2, axis=1)\n",
    "                prob = dist_sq / np.sum(dist_sq)\n",
    "                new_centroid = self.X[np.random.choice(n, p=prob)]\n",
    "                self.centroids.append(new_centroid)\n",
    "            self.centroids = np.array(self.centroids)\n",
    "        else:\n",
    "            raise ValueError(\"Invalid initialization method. Choose from 'random' or 'kmeans++'.\")\n",
    "\n",
    "    def fit(self, max_iters=100, tol=1e-4, init_method='random'):\n",
    "        \"\"\"Fit the KMeans model to the data.\"\"\"\n",
    "        # Initialize centroids using the chosen method\n",
    "        self._initialize_centroids(init_method)\n",
    "        for _ in range(max_iters):\n",
    "            # Assign each point to the closest centroid\n",
    "            distances = np.linalg.norm(self.X[:, np.newaxis] - self.centroids, axis=2)\n",
    "            labels = np.argmin(distances, axis=1)\n",
    "            # Compute new centroids\n",
    "            new_centroids = np.array([self.X[labels == i].mean(axis=0) if np.any(labels == i) else self.centroids[i] for i in range(self.k)])\n",
    "            # Check for convergence\n",
    "            if np.linalg.norm(new_centroids - self.centroids) < tol:\n",
    "                break\n",
    "            self.centroids = new_centroids\n",
    "        # Create clusters based on the final centroids\n",
    "        self.clusters = [Cluster(self.X[labels == i]) for i in range(self.k)]\n",
    "        self.labels = labels\n",
    "\n",
    "    def get_centroids(self):\n",
    "        return self.centroids\n",
    "\n",
    "    def get_clusters(self):\n",
    "        return self.clusters\n",
    "    \n",
    "    def get_labels(self):\n",
    "\t    return self.labels\n"
   ]
  },
  {
   "cell_type": "markdown",
   "metadata": {},
   "source": [
    "### Complexity Analysis:\n",
    "- **Time Complexity**:\n",
    "  - The assignment step requires computing the squared Euclidean distance between each point and each cluster center, which takes $O(n \\cdot k \\cdot d)$ time, where $n$ is the number of data points, $k$ is the number of clusters, and $d$ is the dimensionality of the data.\n",
    "  - The update step requires computing the mean of each cluster, which takes $O(n \\cdot d)$ time.\n",
    "  - The algorithm typically converges in a few iterations, with each iteration taking $O(n \\cdot k \\cdot d)$ time.\n",
    "  - Overall, the time complexity is $O(t \\cdot n \\cdot k \\cdot d)$, where $t$ is the number of iterations until convergence.\n",
    "\n",
    "- **Space Complexity**:\n",
    "    - The algorithm requires $O(n \\cdot d)$ space to store the data points and cluster centers.\n",
    "    - Additional space is needed for storing the cluster assignments and other variables, resulting in a space complexity of $O(n \\cdot d)$.\n"
   ]
  },
  {
   "cell_type": "markdown",
   "metadata": {},
   "source": [
    "### Example Usage:\n",
    "\n",
    "Testing the algorithm on a sample dataset:"
   ]
  },
  {
   "cell_type": "code",
   "execution_count": null,
   "metadata": {},
   "outputs": [
    {
     "data": {
      "image/png": "[encoded data removed]",
      "text/plain": [
       "<Figure size 800x700 with 1 Axes>"
      ]
     },
     "metadata": {},
     "output_type": "display_data"
    }
   ],
   "source": [
    "# Generate synthetic dataset\n",
    "n_samples = 300\n",
    "n_features = 2\n",
    "n_clusters = 5\n",
    "\n",
    "X, y = make_blobs(n_samples=n_samples, centers=n_clusters, n_features=n_features, random_state=42)\n",
    "\n",
    "# Apply Lloyd's K-Means Clustering\n",
    "lloyd_kmeans = KMeansClustering(X, n_clusters)\n",
    "lloyd_kmeans.fit()\n",
    "lloyd_clusters = lloyd_kmeans.get_clusters()\n",
    "lloyd_centroids = lloyd_kmeans.get_centroids()\n",
    "\n",
    "plt.figure(figsize=(8, 7))\n",
    "plt.title(\"Lloyd's K-Means Clustering\")\n",
    "for i, cluster in enumerate(lloyd_clusters):\n",
    "\tplt.scatter(cluster.points[:, 0], cluster.points[:, 1], label=f'Cluster {i}')\n",
    "\tplt.scatter(cluster.mean[0], cluster.mean[1], s=20, marker='x', color='black')\n",
    "plt.legend()\n",
    "plt.show()"
   ]
  },
  {
   "cell_type": "markdown",
   "metadata": {},
   "source": [
    "## Question 2\n",
    "\n",
    "Q2. For the $k$-means problem, show that there is at most a factor of four ratio between the optimal value when we either require all cluster centers to be data points or allow arbitrary points to be centers.\n"
   ]
  },
  {
   "cell_type": "markdown",
   "metadata": {},
   "source": [
    "### Factor of Four Ratio in k-Means\n",
    "\n",
    "Let $ X = \\{x_1, x_2, \\dots, x_n\\} $ be a set of data points in $ \\mathbb{R}^d $, and let $ C = \\{c_1, c_2, \\dots, c_k\\} $ be a set of cluster centers. The k-means objective function is defined as:\n",
    "$$\n",
    "\\Phi(X, C) = \\sum_{x \\in X} \\min_{c \\in C} \\|x - c\\|^2\n",
    "$$\n",
    "\n",
    "Let $ \\text{OPT}_{\\text{arbitrary}} $ be the optimal value of the k-means objective when centers are arbitrary points, and let $ \\text{OPT}_{\\text{data}} $ be the optimal value when centers are restricted to data points. We aim to show that:\n",
    "$$\n",
    "\\text{OPT}_{\\text{data}} \\leq 4 \\cdot \\text{OPT}_{\\text{arbitrary}}\n",
    "$$\n",
    "\n",
    "Let $ C_{\\text{arbitrary}} = \\{a_1, a_2, \\dots, a_k\\} $ be the optimal set of centers allowing arbitrary points, and let $ C_{\\text{data}} = \\{b_1, b_2, \\dots, b_k\\} $ be the optimal set of centers when constrained to data points. Then:\n",
    "$$\n",
    "\\text{OPT}_{\\text{arbitrary}} = \\Phi(X, C_{\\text{arbitrary}}) = \\sum_{x \\in X} \\min_{a \\in C_{\\text{arbitrary}}} \\|x - a\\|^2\n",
    "$$\n",
    "$$\n",
    "\\text{OPT}_{\\text{data}} = \\Phi(X, C_{\\text{data}}) = \\sum_{x \\in X} \\min_{b \\in C_{\\text{data}}} \\|x - b\\|^2\n",
    "$$\n",
    "\n",
    "### Proof\n",
    "\n",
    "Let $ C_{\\text{arbitrary}} = \\{a_1, a_2, \\dots, a_k\\} $ be the optimal set of centers (arbitrary points) that minimizes $ \\Phi(X, C) $. For each optimal center $ a_i $, let $ b_i $ be the closest data point to $ a_i $, i.e.,\n",
    "$$\n",
    "b_i = \\arg\\min_{x \\in X} \\|x - a_i\\|\n",
    "$$\n",
    "\n",
    "For any data point $ x \\in X $, let $ a_i $ be its closest center in $ C_{\\text{arbitrary}} $. By the triangle inequality,\n",
    "$$\n",
    "\\|x - b_i\\| \\leq \\|x - a_i\\| + \\|a_i - b_i\\|\n",
    "$$\n",
    "\n",
    "Since $ b_i $ is the closest data point to $ a_i $, we have $ \\|a_i - b_i\\| \\leq \\|a_i - x\\| $ for all $ x \\in X $. Thus,\n",
    "$$\n",
    "\\|x - b_i\\| \\leq 2 \\|x - a_i\\|\n",
    "$$\n",
    "\n",
    "Squaring both sides,\n",
    "$$\n",
    "\\|x - b_i\\|^2 \\leq 4 \\|x - a_i\\|^2\n",
    "$$\n",
    "\n",
    "From the above inequality, we have:\n",
    "$$\n",
    "\\min_{b \\in C_{\\text{data}}} \\|x - b\\|^2 \\leq 4 \\min_{a \\in C_{\\text{arbitrary}}} \\|x - a\\|^2\n",
    "$$\n",
    "$$\n",
    "\\begin{aligned}\n",
    "&\\text{where } C_{\\text{data}} = \\{b_1, b_2, \\dots, b_k\\} \\text{ is the set of data points closest to the optimal centers in } C_{\\text{arbitrary}}. \\\\\n",
    "\\end{aligned}\n",
    "$$\n",
    "\n",
    "Summing over all data points $ x \\in X $,\n",
    "$$\n",
    "\\sum_{x \\in X} \\min_{b \\in C_{\\text{data}}} \\|x - b\\|^2 \\leq 4 \\sum_{x \\in X} \\min_{a \\in C_{\\text{arbitrary}}} \\|x - a\\|^2\n",
    "$$\n",
    "\n",
    "$$\n",
    "\\text{OPT}_{\\text{data}} \\leq 4 \\cdot \\text{OPT}_{\\text{arbitrary}}\n",
    "$$\n",
    "\n",
    "Therefore, we have proved that the optimal value of the k-means objective function when centers are restricted to data points is at most four times the optimal value when arbitrary points are allowed to be centers.  $\\hspace{20pt}$ $\\blacksquare$"
   ]
  },
  {
   "cell_type": "markdown",
   "metadata": {},
   "source": [
    "## Question 3\n",
    "\n",
    "Q3. Create a random variable $X$ for which Markov’s inequality is tight. Give proof for your answer. If it is tight, then why are we using other inequalities e.g. Chebyshev and Chernoff?"
   ]
  },
  {
   "cell_type": "markdown",
   "metadata": {},
   "source": [
    "### **Solution:**\n",
    "\n",
    "**Markov's Inequality** states that for any non-negative random variable $X$ and any $c > 0$, we have:\n",
    "$$\n",
    "P(X \\geq c) \\leq \\frac{E[X]}{c}\n",
    "$$\n",
    "\n",
    "Let $X$ be a random variable that takes values $0$ and $a>0$. The probability mass function of $X$ is given by:\n",
    "$$\n",
    "P(X = x) = \n",
    "\\begin{cases} \n",
    "1 - p & \\text{if } x = 0 \\\\\n",
    "p & \\text{if } x = a\n",
    "\\end{cases}\n",
    "$$\n",
    "\n",
    "The expectation of $X$ is given by:\n",
    "$$\n",
    "E[X] = 0 \\times (1 - p) + a \\times p = ap\n",
    "$$\n",
    "\n",
    "Then by Markov's Inequality:\n",
    "$$\n",
    "P(X \\geq c) \\leq \\frac{E[X]}{c} = \\frac{ap}{c}\n",
    "$$\n",
    "\n",
    "If we choose $c = a$, then:\n",
    "$$\n",
    "P(X \\geq a) \\leq \\frac{ap}{a} = p\n",
    "$$\n",
    "\n",
    "This is tight because the equality holds. The probability that $X$ is greater than or equal to $a$ is exactly $p$. This is the maximum probability that Markov's Inequality can give.\n",
    "\n",
    "\n",
    "**Use of Other Inequalities (Chebyshev and Chernoff)**\n",
    "\n",
    "- Markov's Inequality is tight only for specific distributions (e.g. the one we constructed above). For other distributions, Markov's Inequality may not be tight. It only uses the first moment of the random variable and does not take into account higher moments or the distribution shape.\n",
    "\n",
    "- Chebyshev's Inequality is more general and provides a tighter bound than Markov's Inequality for any random variable with finite variance as it uses the second moment (variance) of the random variable. It is useful when we want a more precise estimate of the tail probabilities.\n",
    "$$\n",
    "P(|X - E[X]| \\geq c) \\leq \\frac{Var[X]}{c^2}\n",
    "$$\n",
    "\n",
    "\n",
    "- Chernoff's Inequality is even tighter than Chebyshev's Inequality because it uses the moment generating function of the random variable. It provides exponentially decreasing bounds on tail probabilities. The inequalities are given by:\n",
    "\n",
    "    - Upper Tail:\n",
    "    $\n",
    "    P(X \\geq (1 + \\delta)\\mu) \\leq e^{-\\frac{\\delta^2 \\mu}{2 + \\delta}}\n",
    "    $\n",
    "    for all $\\delta > 0$;\n",
    "\n",
    "    - Lower Tail:\n",
    "    $\n",
    "    P(X \\leq (1 - \\delta)\\mu) \\leq e^{-\\frac{\\delta^2 \\mu}{2}}\n",
    "    $\n",
    "    for all $0 < \\delta < 1$\n"
   ]
  },
  {
   "cell_type": "markdown",
   "metadata": {},
   "source": [
    "## Question 4\n",
    "\n",
    "Q4. Download the MNIST dataset from [http://yann.lecun.com/exdb/mnist/](http://yann.lecun.com/exdb/mnist/). We will use the test dataset and test labels only.\n",
    "\n",
    "1. Cluster them first using k-means clustering, k = 10, with $kmeans++$ initialization (implement the complete Lloyd’s algorithm yourself). Check the Rand-index of the clustering against the true labels. Use the sklearn module for rand-index.\n",
    "2. Do the same for $k$-center clustering, $k$ = 10. Implement the greedy algorithm discussed in class. Report the Rand-index here too.\n",
    "3. Run the single linkage agglomeration till there are $k$ = 10 clusters. Report Rand-index here too.\n",
    "4. Run the same algorithms (k-means and k-center) but on a rank-$k$ approximation of the training data matrix. Note that if $A$ is the training data matrix (images $×$ pixels), then you can just use $U_k Σ_k$ for the clustering, no need to use $V_k$. Evaluate for $k$ = 2,5,10 and report the rand-index values.\n"
   ]
  },
  {
   "cell_type": "markdown",
   "metadata": {},
   "source": [
    "### **Solution:**"
   ]
  },
  {
   "cell_type": "markdown",
   "metadata": {},
   "source": [
    "### Loading the MNIST Dataset"
   ]
  },
  {
   "cell_type": "code",
   "execution_count": null,
   "metadata": {},
   "outputs": [],
   "source": [
    "X, y = load_mnist(path='./data/MNIST', kind='t10k', normalize=True)\n",
    "\n",
    "print('X shape:', X.shape)\n",
    "print('y shape:', y.shape)"
   ]
  },
  {
   "cell_type": "code",
   "execution_count": null,
   "metadata": {},
   "outputs": [],
   "source": [
    "rand_scores = []"
   ]
  },
  {
   "cell_type": "markdown",
   "metadata": {},
   "source": [
    "### k-Means Clustering"
   ]
  },
  {
   "cell_type": "code",
   "execution_count": null,
   "metadata": {},
   "outputs": [
    {
     "name": "stdout",
     "output_type": "stream",
     "text": [
      "K-Means++ Rand Index: 0.8908109410941094\n"
     ]
    }
   ],
   "source": [
    "kmeanspp = KMeansClustering(X, k=10)\n",
    "kmeanspp.fit(init_method='kmeans++')\n",
    "\n",
    "kmeanspp_rand = rand_score(y, kmeanspp.get_labels())\n",
    "rand_scores.append(kmeanspp_rand)\n",
    "print('K-Means++ Rand Index:', kmeanspp_rand)"
   ]
  },
  {
   "cell_type": "markdown",
   "metadata": {},
   "source": [
    "### k-Center Clustering"
   ]
  },
  {
   "cell_type": "code",
   "execution_count": null,
   "metadata": {},
   "outputs": [],
   "source": [
    "class KCenterClustering:\n",
    "\tdef __init__(self, X, k):\n",
    "\t\tself.X = X\n",
    "\t\tself.k = k\n",
    "\t\tself.centers = None\n",
    "\t\tself.clusters = None\n",
    "\t\tself.labels = None\n",
    "\n",
    "\tdef fit(self):\n",
    "\t\tn, d = self.X.shape\n",
    "\t\t# Initialize the centers\n",
    "\t\tself.centers = [self.X[np.random.choice(n)]]\n",
    "\t\tfor _ in range(1, self.k):\n",
    "\t\t\tdist_sq = np.min(np.linalg.norm(self.X[:, np.newaxis] - np.array(self.centers), axis=2)**2, axis=1)\n",
    "\t\t\tnew_center = self.X[np.argmax(dist_sq)]\n",
    "\t\t\tself.centers.append(new_center)\n",
    "\t\tself.centers = np.array(self.centers)\n",
    "\t\t# Assign each point to the closest center\n",
    "\t\tdistances = np.linalg.norm(self.X[:, np.newaxis] - self.centers, axis=2)\n",
    "\t\tlabels = np.argmin(distances, axis=1)\n",
    "\t\t# Create clusters based on the centers\n",
    "\t\tself.labels = labels\n",
    "\t\tself.clusters = [Cluster(self.X[labels == i]) for i in range(self.k)]\n",
    "\n",
    "\tdef get_centers(self):\n",
    "\t\treturn self.centers\n",
    "\t\n",
    "\tdef get_clusters(self):\n",
    "\t\treturn self.clusters\n",
    "\t\n",
    "\tdef get_labels(self):\n",
    "\t\treturn self.labels"
   ]
  },
  {
   "cell_type": "code",
   "execution_count": null,
   "metadata": {},
   "outputs": [
    {
     "name": "stdout",
     "output_type": "stream",
     "text": [
      "K-Center Rand Index: 0.6146236823682368\n"
     ]
    }
   ],
   "source": [
    "kcenter = KCenterClustering(X, k=10)\n",
    "kcenter.fit()\n",
    "\n",
    "kcenter_rand = rand_score(y, kcenter.get_labels())\n",
    "rand_scores.append(kcenter_rand)\n",
    "print('K-Center Rand Index:', kcenter_rand)"
   ]
  },
  {
   "cell_type": "markdown",
   "metadata": {},
   "source": [
    "### Single Linkage Agglomeration"
   ]
  },
  {
   "cell_type": "code",
   "execution_count": null,
   "metadata": {},
   "outputs": [
    {
     "name": "stdout",
     "output_type": "stream",
     "text": [
      "Single-Linkage Rand Index: 0.1017039703970397\n"
     ]
    }
   ],
   "source": [
    "single_linkage = AgglomerativeClustering(n_clusters=10, linkage='single')\n",
    "single_linkage.fit(X)\n",
    "single_linkage_rand = rand_score(y, single_linkage.labels_)\n",
    "rand_scores.append(single_linkage_rand)\n",
    "print('Single-Linkage Rand Index:', single_linkage_rand)"
   ]
  },
  {
   "cell_type": "markdown",
   "metadata": {},
   "source": [
    "### Rank-k Approximation"
   ]
  },
  {
   "cell_type": "code",
   "execution_count": null,
   "metadata": {
    "vscode": {
     "languageId": "ruby"
    }
   },
   "outputs": [
    {
     "name": "stdout",
     "output_type": "stream",
     "text": [
      "K-Means Rank-2 Rand Index: 0.8306503850385039\n",
      "K-Center Rank-2 Rand Index: 0.6551273927392739\n",
      "K-Means Rank-5 Rand Index: 0.8706734673467347\n",
      "K-Center Rank-5 Rand Index: 0.8010637863786378\n",
      "K-Means Rank-10 Rand Index: 0.8773658365836584\n",
      "K-Center Rank-10 Rand Index: 0.8150186618661867\n"
     ]
    }
   ],
   "source": [
    "def rank_k_approx(X, k):\n",
    "\tU, S, Vt = np.linalg.svd(X, full_matrices=False)\n",
    "\treturn U[:, :k] @ np.diag(S[:k])\n",
    "\n",
    "k_values = [2, 5, 10]\n",
    "\n",
    "for k in k_values:\n",
    "\tX_rank_k = rank_k_approx(X, k)\n",
    "\n",
    "\t# K-Means on Rank-k approximated data\n",
    "\tkmeans_rank_k = KMeansClustering(X_rank_k, k=10)\n",
    "\tkmeans_rank_k.fit()\n",
    "\tkmeans_rank_k_rand = rand_score(y, kmeans_rank_k.get_labels())\n",
    "\tprint(f'K-Means Rank-{k} Rand Index:', kmeans_rank_k_rand)\n",
    "\n",
    "\t# K-Center on Rank-k approximated data\n",
    "\tkcenter_rank_k = KCenterClustering(X_rank_k, k=10)\n",
    "\tkcenter_rank_k.fit()\n",
    "\tkcenter_rank_k_rand = rand_score(y, kcenter_rank_k.get_labels())\n",
    "\tprint(f'K-Center Rank-{k} Rand Index:', kcenter_rank_k_rand)\n",
    "\n",
    "\trand_scores.append([kmeans_rank_k_rand, kcenter_rank_k_rand])"
   ]
  },
  {
   "cell_type": "markdown",
   "metadata": {},
   "source": [
    "### Final Results"
   ]
  },
  {
   "cell_type": "code",
   "execution_count": null,
   "metadata": {},
   "outputs": [
    {
     "name": "stdout",
     "output_type": "stream",
     "text": [
      "All Rand Scores:\n",
      "\n",
      "Q4. a) K-Means++ Rand Index     : 0.8908\n",
      "Q4. b) K-Center Rand Index      : 0.6146\n",
      "Q4. c) Single-Linkage Rand Index: 0.1017\n",
      "Q4. d) Rank-2 : K-Means Rand Index: 0.8307, K-Center Rand Index: 0.6551\n",
      "       Rank-5 : K-Means Rand Index: 0.8707, K-Center Rand Index: 0.8011\n",
      "       Rank-10: K-Means Rand Index: 0.8774, K-Center Rand Index: 0.8150\n"
     ]
    }
   ],
   "source": [
    "# print all rand scores question and bit wise\n",
    "print('All Rand Scores:\\n')\n",
    "print(f\"Q4. a) K-Means++ Rand Index     : {kmeanspp_rand:.4f}\")\n",
    "print(f\"Q4. b) K-Center Rand Index      : {kcenter_rand:.4f}\")\n",
    "print(f\"Q4. c) Single-Linkage Rand Index: {single_linkage_rand:.4f}\")\n",
    "print(f\"Q4. d) Rank-2 : K-Means Rand Index: {rand_scores[3][0]:.4f}, K-Center Rand Index: {rand_scores[3][1]:.4f}\")\n",
    "print(f\"       Rank-5 : K-Means Rand Index: {rand_scores[4][0]:.4f}, K-Center Rand Index: {rand_scores[4][1]:.4f}\")\n",
    "print(f\"       Rank-10: K-Means Rand Index: {rand_scores[5][0]:.4f}, K-Center Rand Index: {rand_scores[5][1]:.4f}\")\n"
   ]
  },
  {
   "cell_type": "markdown",
   "metadata": {},
   "source": []
  }
 ],
 "metadata": {
  "kernelspec": {
   "display_name": ".venv (3.12.9)",
   "language": "python",
   "name": "python3"
  },
  "language_info": {
   "codemirror_mode": {
    "name": "ipython",
    "version": 3
   },
   "file_extension": ".py",
   "mimetype": "text/x-python",
   "name": "python",
   "nbconvert_exporter": "python",
   "pygments_lexer": "ipython3",
   "version": "3.12.9"
  }
 },
 "nbformat": 4,
 "nbformat_minor": 2
}
